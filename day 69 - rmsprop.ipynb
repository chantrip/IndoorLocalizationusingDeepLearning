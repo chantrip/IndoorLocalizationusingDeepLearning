{
 "cells": [
  {
   "cell_type": "code",
   "execution_count": 1,
   "metadata": {
    "collapsed": true
   },
   "outputs": [],
   "source": [
    "import numpy as np\n",
    "from bokeh.plotting import figure, show, output_notebook"
   ]
  },
  {
   "cell_type": "markdown",
   "metadata": {},
   "source": [
    "## algorithm"
   ]
  },
  {
   "cell_type": "code",
   "execution_count": 2,
   "metadata": {},
   "outputs": [],
   "source": [
    "def gradient_descent(F, dF, x, steps=100, lr=0.001):\n",
    "    loss = []\n",
    "    \n",
    "    for _ in range(steps):\n",
    "        dx = dF(x)\n",
    "        x -= lr * dx\n",
    "        loss.append(F(x))\n",
    "\n",
    "    return x, loss"
   ]
  },
  {
   "cell_type": "code",
   "execution_count": 3,
   "metadata": {
    "collapsed": true
   },
   "outputs": [],
   "source": [
    "def rmsprop(F, dF, x, steps=100, lr=0.001, decay=.9, eps=1e-8):\n",
    "    loss = []\n",
    "    dx_mean_sqr = np.zeros(x.shape, dtype=float)\n",
    "\n",
    "    for _ in range(steps):\n",
    "        dx = dF(x)\n",
    "        dx_mean_sqr = decay * dx_mean_sqr + (1 - decay) * dx ** 2\n",
    "        x -= lr * dx / (np.sqrt(dx_mean_sqr) + eps)\n",
    "        loss.append(F(x))\n",
    "    \n",
    "    return x, loss"
   ]
  },
  {
   "cell_type": "code",
   "execution_count": 4,
   "metadata": {
    "collapsed": true
   },
   "outputs": [],
   "source": [
    "def rmsprop_momentum(F, dF, x, steps=100, lr=0.001, decay=.9, eps=1e-8, mu=.9):\n",
    "    loss = []\n",
    "    dx_mean_sqr = np.zeros(x.shape, dtype=float)\n",
    "    momentum = np.zeros(x.shape, dtype=float)\n",
    "\n",
    "    for _ in range(steps):\n",
    "        dx = dF(x)\n",
    "        dx_mean_sqr = decay * dx_mean_sqr + (1 - decay) * dx ** 2\n",
    "        momentum = mu * momentum + lr * dx / (np.sqrt(dx_mean_sqr) + eps)\n",
    "        x -= momentum\n",
    "        loss.append(F(x))\n",
    "\n",
    "    return x, loss"
   ]
  },
  {
   "cell_type": "markdown",
   "metadata": {},
   "source": [
    "## function"
   ]
  },
  {
   "cell_type": "code",
   "execution_count": 5,
   "metadata": {
    "collapsed": true
   },
   "outputs": [],
   "source": [
    "def F(x):\n",
    "    residual = A @ x - np.eye(len(A), dtype=float)\n",
    "    return np.sum(residual ** 2)"
   ]
  },
  {
   "cell_type": "code",
   "execution_count": 6,
   "metadata": {
    "collapsed": true
   },
   "outputs": [],
   "source": [
    "def dF(x):\n",
    "    return 2 * A.T @ (A @ x - np.eye(len(A), dtype=float))"
   ]
  },
  {
   "cell_type": "code",
   "execution_count": 7,
   "metadata": {
    "collapsed": true
   },
   "outputs": [],
   "source": [
    "A = np.array([\n",
    "    [2, 5, 1, 4, 6],\n",
    "    [3, 5, 0, 0, 0],\n",
    "    [1, 1, 0, 3, 8],\n",
    "    [6, 6, 2, 2, 1],\n",
    "    [8, 3, 5, 1, 4],\n",
    "], dtype=float)"
   ]
  },
  {
   "cell_type": "markdown",
   "metadata": {},
   "source": [
    "## optimization"
   ]
  },
  {
   "cell_type": "code",
   "execution_count": 8,
   "metadata": {},
   "outputs": [
    {
     "data": {
      "text/plain": [
       "(array([[ 0.79, -0.01,  0.18,  0.19, -0.08],\n",
       "        [-0.01,  0.8 ,  0.  ,  0.2 , -0.07],\n",
       "        [ 0.18,  0.  ,  0.85, -0.15,  0.07],\n",
       "        [ 0.19,  0.2 , -0.15,  0.66,  0.13],\n",
       "        [-0.08, -0.07,  0.07,  0.13,  0.95]]), 0.54691984767143453)"
      ]
     },
     "execution_count": 8,
     "metadata": {},
     "output_type": "execute_result"
    }
   ],
   "source": [
    "X, loss1 = gradient_descent(F, dF, A * 0, steps=300)\n",
    "(A @ X).round(2), loss1[-1]"
   ]
  },
  {
   "cell_type": "code",
   "execution_count": 9,
   "metadata": {},
   "outputs": [
    {
     "data": {
      "text/plain": [
       "(array([[ 0.84, -0.05,  0.1 ,  0.09, -0.04],\n",
       "        [-0.04,  0.82,  0.03,  0.18, -0.03],\n",
       "        [ 0.12,  0.03,  0.9 , -0.09,  0.04],\n",
       "        [ 0.15,  0.2 , -0.12,  0.74,  0.07],\n",
       "        [-0.08, -0.09,  0.04,  0.09,  0.99]]), 0.32394591074449003)"
      ]
     },
     "execution_count": 9,
     "metadata": {},
     "output_type": "execute_result"
    }
   ],
   "source": [
    "X, loss2 = rmsprop(F, dF, A * 0, steps=300)\n",
    "(A @ X).round(2), loss2[-1]"
   ]
  },
  {
   "cell_type": "code",
   "execution_count": 10,
   "metadata": {},
   "outputs": [
    {
     "data": {
      "text/plain": [
       "(array([[ 0.99,  0.01,  0.  , -0.01,  0.  ],\n",
       "        [-0.  ,  1.  ,  0.  , -0.  ,  0.  ],\n",
       "        [-0.  ,  0.01,  1.  , -0.01,  0.  ],\n",
       "        [-0.01,  0.01,  0.  ,  0.99,  0.  ],\n",
       "        [-0.01,  0.01,  0.  , -0.01,  1.  ]]), 0.00062303887772419619)"
      ]
     },
     "execution_count": 10,
     "metadata": {},
     "output_type": "execute_result"
    }
   ],
   "source": [
    "X, loss3 = rmsprop_momentum(F, dF, A * 0, steps=300)\n",
    "(A @ X).round(2), loss3[-1]"
   ]
  },
  {
   "cell_type": "code",
   "execution_count": 12,
   "metadata": {},
   "outputs": [
    {
     "data": {
      "text/html": [
       "\n",
       "    <div class=\"bk-root\">\n",
       "        <a href=\"https://bokeh.pydata.org\" target=\"_blank\" class=\"bk-logo bk-logo-small bk-logo-notebook\"></a>\n",
       "        <span id=\"49dc3d2f-275f-4feb-932e-6aa12e14a743\">Loading BokehJS ...</span>\n",
       "    </div>"
      ]
     },
     "metadata": {},
     "output_type": "display_data"
    },
    {
     "data": {
      "application/javascript": [
       "\n",
       "(function(root) {\n",
       "  function now() {\n",
       "    return new Date();\n",
       "  }\n",
       "\n",
       "  var force = true;\n",
       "\n",
       "  if (typeof (root._bokeh_onload_callbacks) === \"undefined\" || force === true) {\n",
       "    root._bokeh_onload_callbacks = [];\n",
       "    root._bokeh_is_loading = undefined;\n",
       "  }\n",
       "\n",
       "  var JS_MIME_TYPE = 'application/javascript';\n",
       "  var HTML_MIME_TYPE = 'text/html';\n",
       "  var EXEC_MIME_TYPE = 'application/vnd.bokehjs_exec.v0+json';\n",
       "  var CLASS_NAME = 'output_bokeh rendered_html';\n",
       "\n",
       "  /**\n",
       "   * Render data to the DOM node\n",
       "   */\n",
       "  function render(props, node) {\n",
       "    var script = document.createElement(\"script\");\n",
       "    node.appendChild(script);\n",
       "  }\n",
       "\n",
       "  /**\n",
       "   * Handle when an output is cleared or removed\n",
       "   */\n",
       "  function handleClearOutput(event, handle) {\n",
       "    var cell = handle.cell;\n",
       "\n",
       "    var id = cell.output_area._bokeh_element_id;\n",
       "    var server_id = cell.output_area._bokeh_server_id;\n",
       "    // Clean up Bokeh references\n",
       "    if (id !== undefined) {\n",
       "      Bokeh.index[id].model.document.clear();\n",
       "      delete Bokeh.index[id];\n",
       "    }\n",
       "\n",
       "    if (server_id !== undefined) {\n",
       "      // Clean up Bokeh references\n",
       "      var cmd = \"from bokeh.io.state import curstate; print(curstate().uuid_to_server['\" + server_id + \"'].get_sessions()[0].document.roots[0]._id)\";\n",
       "      cell.notebook.kernel.execute(cmd, {\n",
       "        iopub: {\n",
       "          output: function(msg) {\n",
       "            var element_id = msg.content.text.trim();\n",
       "            Bokeh.index[element_id].model.document.clear();\n",
       "            delete Bokeh.index[element_id];\n",
       "          }\n",
       "        }\n",
       "      });\n",
       "      // Destroy server and session\n",
       "      var cmd = \"import bokeh.io.notebook as ion; ion.destroy_server('\" + server_id + \"')\";\n",
       "      cell.notebook.kernel.execute(cmd);\n",
       "    }\n",
       "  }\n",
       "\n",
       "  /**\n",
       "   * Handle when a new output is added\n",
       "   */\n",
       "  function handleAddOutput(event, handle) {\n",
       "    var output_area = handle.output_area;\n",
       "    var output = handle.output;\n",
       "\n",
       "    // limit handleAddOutput to display_data with EXEC_MIME_TYPE content only\n",
       "    if ((output.output_type != \"display_data\") || (!output.data.hasOwnProperty(EXEC_MIME_TYPE))) {\n",
       "      return\n",
       "    }\n",
       "\n",
       "    var toinsert = output_area.element.find(`.${CLASS_NAME.split(' ')[0]}`);\n",
       "\n",
       "    if (output.metadata[EXEC_MIME_TYPE][\"id\"] !== undefined) {\n",
       "      toinsert[0].firstChild.textContent = output.data[JS_MIME_TYPE];\n",
       "      // store reference to embed id on output_area\n",
       "      output_area._bokeh_element_id = output.metadata[EXEC_MIME_TYPE][\"id\"];\n",
       "    }\n",
       "    if (output.metadata[EXEC_MIME_TYPE][\"server_id\"] !== undefined) {\n",
       "      var bk_div = document.createElement(\"div\");\n",
       "      bk_div.innerHTML = output.data[HTML_MIME_TYPE];\n",
       "      var script_attrs = bk_div.children[0].attributes;\n",
       "      for (var i = 0; i < script_attrs.length; i++) {\n",
       "        toinsert[0].firstChild.setAttribute(script_attrs[i].name, script_attrs[i].value);\n",
       "      }\n",
       "      // store reference to server id on output_area\n",
       "      output_area._bokeh_server_id = output.metadata[EXEC_MIME_TYPE][\"server_id\"];\n",
       "    }\n",
       "  }\n",
       "\n",
       "  function register_renderer(events, OutputArea) {\n",
       "\n",
       "    function append_mime(data, metadata, element) {\n",
       "      // create a DOM node to render to\n",
       "      var toinsert = this.create_output_subarea(\n",
       "        metadata,\n",
       "        CLASS_NAME,\n",
       "        EXEC_MIME_TYPE\n",
       "      );\n",
       "      this.keyboard_manager.register_events(toinsert);\n",
       "      // Render to node\n",
       "      var props = {data: data, metadata: metadata[EXEC_MIME_TYPE]};\n",
       "      render(props, toinsert[0]);\n",
       "      element.append(toinsert);\n",
       "      return toinsert\n",
       "    }\n",
       "\n",
       "    /* Handle when an output is cleared or removed */\n",
       "    events.on('clear_output.CodeCell', handleClearOutput);\n",
       "    events.on('delete.Cell', handleClearOutput);\n",
       "\n",
       "    /* Handle when a new output is added */\n",
       "    events.on('output_added.OutputArea', handleAddOutput);\n",
       "\n",
       "    /**\n",
       "     * Register the mime type and append_mime function with output_area\n",
       "     */\n",
       "    OutputArea.prototype.register_mime_type(EXEC_MIME_TYPE, append_mime, {\n",
       "      /* Is output safe? */\n",
       "      safe: true,\n",
       "      /* Index of renderer in `output_area.display_order` */\n",
       "      index: 0\n",
       "    });\n",
       "  }\n",
       "\n",
       "  // register the mime type if in Jupyter Notebook environment and previously unregistered\n",
       "  if (root.Jupyter !== undefined) {\n",
       "    var events = require('base/js/events');\n",
       "    var OutputArea = require('notebook/js/outputarea').OutputArea;\n",
       "\n",
       "    if (OutputArea.prototype.mime_types().indexOf(EXEC_MIME_TYPE) == -1) {\n",
       "      register_renderer(events, OutputArea);\n",
       "    }\n",
       "  }\n",
       "\n",
       "  \n",
       "  if (typeof (root._bokeh_timeout) === \"undefined\" || force === true) {\n",
       "    root._bokeh_timeout = Date.now() + 5000;\n",
       "    root._bokeh_failed_load = false;\n",
       "  }\n",
       "\n",
       "  var NB_LOAD_WARNING = {'data': {'text/html':\n",
       "     \"<div style='background-color: #fdd'>\\n\"+\n",
       "     \"<p>\\n\"+\n",
       "     \"BokehJS does not appear to have successfully loaded. If loading BokehJS from CDN, this \\n\"+\n",
       "     \"may be due to a slow or bad network connection. Possible fixes:\\n\"+\n",
       "     \"</p>\\n\"+\n",
       "     \"<ul>\\n\"+\n",
       "     \"<li>re-rerun `output_notebook()` to attempt to load from CDN again, or</li>\\n\"+\n",
       "     \"<li>use INLINE resources instead, as so:</li>\\n\"+\n",
       "     \"</ul>\\n\"+\n",
       "     \"<code>\\n\"+\n",
       "     \"from bokeh.resources import INLINE\\n\"+\n",
       "     \"output_notebook(resources=INLINE)\\n\"+\n",
       "     \"</code>\\n\"+\n",
       "     \"</div>\"}};\n",
       "\n",
       "  function display_loaded() {\n",
       "    var el = document.getElementById(\"49dc3d2f-275f-4feb-932e-6aa12e14a743\");\n",
       "    if (el != null) {\n",
       "      el.textContent = \"BokehJS is loading...\";\n",
       "    }\n",
       "    if (root.Bokeh !== undefined) {\n",
       "      if (el != null) {\n",
       "        el.textContent = \"BokehJS \" + root.Bokeh.version + \" successfully loaded.\";\n",
       "      }\n",
       "    } else if (Date.now() < root._bokeh_timeout) {\n",
       "      setTimeout(display_loaded, 100)\n",
       "    }\n",
       "  }\n",
       "\n",
       "\n",
       "  function run_callbacks() {\n",
       "    try {\n",
       "      root._bokeh_onload_callbacks.forEach(function(callback) { callback() });\n",
       "    }\n",
       "    finally {\n",
       "      delete root._bokeh_onload_callbacks\n",
       "    }\n",
       "    console.info(\"Bokeh: all callbacks have finished\");\n",
       "  }\n",
       "\n",
       "  function load_libs(js_urls, callback) {\n",
       "    root._bokeh_onload_callbacks.push(callback);\n",
       "    if (root._bokeh_is_loading > 0) {\n",
       "      console.log(\"Bokeh: BokehJS is being loaded, scheduling callback at\", now());\n",
       "      return null;\n",
       "    }\n",
       "    if (js_urls == null || js_urls.length === 0) {\n",
       "      run_callbacks();\n",
       "      return null;\n",
       "    }\n",
       "    console.log(\"Bokeh: BokehJS not loaded, scheduling load and callback at\", now());\n",
       "    root._bokeh_is_loading = js_urls.length;\n",
       "    for (var i = 0; i < js_urls.length; i++) {\n",
       "      var url = js_urls[i];\n",
       "      var s = document.createElement('script');\n",
       "      s.src = url;\n",
       "      s.async = false;\n",
       "      s.onreadystatechange = s.onload = function() {\n",
       "        root._bokeh_is_loading--;\n",
       "        if (root._bokeh_is_loading === 0) {\n",
       "          console.log(\"Bokeh: all BokehJS libraries loaded\");\n",
       "          run_callbacks()\n",
       "        }\n",
       "      };\n",
       "      s.onerror = function() {\n",
       "        console.warn(\"failed to load library \" + url);\n",
       "      };\n",
       "      console.log(\"Bokeh: injecting script tag for BokehJS library: \", url);\n",
       "      document.getElementsByTagName(\"head\")[0].appendChild(s);\n",
       "    }\n",
       "  };var element = document.getElementById(\"49dc3d2f-275f-4feb-932e-6aa12e14a743\");\n",
       "  if (element == null) {\n",
       "    console.log(\"Bokeh: ERROR: autoload.js configured with elementid '49dc3d2f-275f-4feb-932e-6aa12e14a743' but no matching script tag was found. \")\n",
       "    return false;\n",
       "  }\n",
       "\n",
       "  var js_urls = [\"https://cdn.pydata.org/bokeh/release/bokeh-0.12.10.min.js\", \"https://cdn.pydata.org/bokeh/release/bokeh-widgets-0.12.10.min.js\", \"https://cdn.pydata.org/bokeh/release/bokeh-tables-0.12.10.min.js\", \"https://cdn.pydata.org/bokeh/release/bokeh-gl-0.12.10.min.js\"];\n",
       "\n",
       "  var inline_js = [\n",
       "    function(Bokeh) {\n",
       "      Bokeh.set_log_level(\"info\");\n",
       "    },\n",
       "    \n",
       "    function(Bokeh) {\n",
       "      \n",
       "    },\n",
       "    function(Bokeh) {\n",
       "      console.log(\"Bokeh: injecting CSS: https://cdn.pydata.org/bokeh/release/bokeh-0.12.10.min.css\");\n",
       "      Bokeh.embed.inject_css(\"https://cdn.pydata.org/bokeh/release/bokeh-0.12.10.min.css\");\n",
       "      console.log(\"Bokeh: injecting CSS: https://cdn.pydata.org/bokeh/release/bokeh-widgets-0.12.10.min.css\");\n",
       "      Bokeh.embed.inject_css(\"https://cdn.pydata.org/bokeh/release/bokeh-widgets-0.12.10.min.css\");\n",
       "      console.log(\"Bokeh: injecting CSS: https://cdn.pydata.org/bokeh/release/bokeh-tables-0.12.10.min.css\");\n",
       "      Bokeh.embed.inject_css(\"https://cdn.pydata.org/bokeh/release/bokeh-tables-0.12.10.min.css\");\n",
       "    }\n",
       "  ];\n",
       "\n",
       "  function run_inline_js() {\n",
       "    \n",
       "    if ((root.Bokeh !== undefined) || (force === true)) {\n",
       "      for (var i = 0; i < inline_js.length; i++) {\n",
       "        inline_js[i].call(root, root.Bokeh);\n",
       "      }if (force === true) {\n",
       "        display_loaded();\n",
       "      }} else if (Date.now() < root._bokeh_timeout) {\n",
       "      setTimeout(run_inline_js, 100);\n",
       "    } else if (!root._bokeh_failed_load) {\n",
       "      console.log(\"Bokeh: BokehJS failed to load within specified timeout.\");\n",
       "      root._bokeh_failed_load = true;\n",
       "    } else if (force !== true) {\n",
       "      var cell = $(document.getElementById(\"49dc3d2f-275f-4feb-932e-6aa12e14a743\")).parents('.cell').data().cell;\n",
       "      cell.output_area.append_execute_result(NB_LOAD_WARNING)\n",
       "    }\n",
       "\n",
       "  }\n",
       "\n",
       "  if (root._bokeh_is_loading === 0) {\n",
       "    console.log(\"Bokeh: BokehJS loaded, going straight to plotting\");\n",
       "    run_inline_js();\n",
       "  } else {\n",
       "    load_libs(js_urls, function() {\n",
       "      console.log(\"Bokeh: BokehJS plotting callback run at\", now());\n",
       "      run_inline_js();\n",
       "    });\n",
       "  }\n",
       "}(window));"
      ],
      "application/vnd.bokehjs_load.v0+json": "\n(function(root) {\n  function now() {\n    return new Date();\n  }\n\n  var force = true;\n\n  if (typeof (root._bokeh_onload_callbacks) === \"undefined\" || force === true) {\n    root._bokeh_onload_callbacks = [];\n    root._bokeh_is_loading = undefined;\n  }\n\n  \n\n  \n  if (typeof (root._bokeh_timeout) === \"undefined\" || force === true) {\n    root._bokeh_timeout = Date.now() + 5000;\n    root._bokeh_failed_load = false;\n  }\n\n  var NB_LOAD_WARNING = {'data': {'text/html':\n     \"<div style='background-color: #fdd'>\\n\"+\n     \"<p>\\n\"+\n     \"BokehJS does not appear to have successfully loaded. If loading BokehJS from CDN, this \\n\"+\n     \"may be due to a slow or bad network connection. Possible fixes:\\n\"+\n     \"</p>\\n\"+\n     \"<ul>\\n\"+\n     \"<li>re-rerun `output_notebook()` to attempt to load from CDN again, or</li>\\n\"+\n     \"<li>use INLINE resources instead, as so:</li>\\n\"+\n     \"</ul>\\n\"+\n     \"<code>\\n\"+\n     \"from bokeh.resources import INLINE\\n\"+\n     \"output_notebook(resources=INLINE)\\n\"+\n     \"</code>\\n\"+\n     \"</div>\"}};\n\n  function display_loaded() {\n    var el = document.getElementById(\"49dc3d2f-275f-4feb-932e-6aa12e14a743\");\n    if (el != null) {\n      el.textContent = \"BokehJS is loading...\";\n    }\n    if (root.Bokeh !== undefined) {\n      if (el != null) {\n        el.textContent = \"BokehJS \" + root.Bokeh.version + \" successfully loaded.\";\n      }\n    } else if (Date.now() < root._bokeh_timeout) {\n      setTimeout(display_loaded, 100)\n    }\n  }\n\n\n  function run_callbacks() {\n    try {\n      root._bokeh_onload_callbacks.forEach(function(callback) { callback() });\n    }\n    finally {\n      delete root._bokeh_onload_callbacks\n    }\n    console.info(\"Bokeh: all callbacks have finished\");\n  }\n\n  function load_libs(js_urls, callback) {\n    root._bokeh_onload_callbacks.push(callback);\n    if (root._bokeh_is_loading > 0) {\n      console.log(\"Bokeh: BokehJS is being loaded, scheduling callback at\", now());\n      return null;\n    }\n    if (js_urls == null || js_urls.length === 0) {\n      run_callbacks();\n      return null;\n    }\n    console.log(\"Bokeh: BokehJS not loaded, scheduling load and callback at\", now());\n    root._bokeh_is_loading = js_urls.length;\n    for (var i = 0; i < js_urls.length; i++) {\n      var url = js_urls[i];\n      var s = document.createElement('script');\n      s.src = url;\n      s.async = false;\n      s.onreadystatechange = s.onload = function() {\n        root._bokeh_is_loading--;\n        if (root._bokeh_is_loading === 0) {\n          console.log(\"Bokeh: all BokehJS libraries loaded\");\n          run_callbacks()\n        }\n      };\n      s.onerror = function() {\n        console.warn(\"failed to load library \" + url);\n      };\n      console.log(\"Bokeh: injecting script tag for BokehJS library: \", url);\n      document.getElementsByTagName(\"head\")[0].appendChild(s);\n    }\n  };var element = document.getElementById(\"49dc3d2f-275f-4feb-932e-6aa12e14a743\");\n  if (element == null) {\n    console.log(\"Bokeh: ERROR: autoload.js configured with elementid '49dc3d2f-275f-4feb-932e-6aa12e14a743' but no matching script tag was found. \")\n    return false;\n  }\n\n  var js_urls = [\"https://cdn.pydata.org/bokeh/release/bokeh-0.12.10.min.js\", \"https://cdn.pydata.org/bokeh/release/bokeh-widgets-0.12.10.min.js\", \"https://cdn.pydata.org/bokeh/release/bokeh-tables-0.12.10.min.js\", \"https://cdn.pydata.org/bokeh/release/bokeh-gl-0.12.10.min.js\"];\n\n  var inline_js = [\n    function(Bokeh) {\n      Bokeh.set_log_level(\"info\");\n    },\n    \n    function(Bokeh) {\n      \n    },\n    function(Bokeh) {\n      console.log(\"Bokeh: injecting CSS: https://cdn.pydata.org/bokeh/release/bokeh-0.12.10.min.css\");\n      Bokeh.embed.inject_css(\"https://cdn.pydata.org/bokeh/release/bokeh-0.12.10.min.css\");\n      console.log(\"Bokeh: injecting CSS: https://cdn.pydata.org/bokeh/release/bokeh-widgets-0.12.10.min.css\");\n      Bokeh.embed.inject_css(\"https://cdn.pydata.org/bokeh/release/bokeh-widgets-0.12.10.min.css\");\n      console.log(\"Bokeh: injecting CSS: https://cdn.pydata.org/bokeh/release/bokeh-tables-0.12.10.min.css\");\n      Bokeh.embed.inject_css(\"https://cdn.pydata.org/bokeh/release/bokeh-tables-0.12.10.min.css\");\n    }\n  ];\n\n  function run_inline_js() {\n    \n    if ((root.Bokeh !== undefined) || (force === true)) {\n      for (var i = 0; i < inline_js.length; i++) {\n        inline_js[i].call(root, root.Bokeh);\n      }if (force === true) {\n        display_loaded();\n      }} else if (Date.now() < root._bokeh_timeout) {\n      setTimeout(run_inline_js, 100);\n    } else if (!root._bokeh_failed_load) {\n      console.log(\"Bokeh: BokehJS failed to load within specified timeout.\");\n      root._bokeh_failed_load = true;\n    } else if (force !== true) {\n      var cell = $(document.getElementById(\"49dc3d2f-275f-4feb-932e-6aa12e14a743\")).parents('.cell').data().cell;\n      cell.output_area.append_execute_result(NB_LOAD_WARNING)\n    }\n\n  }\n\n  if (root._bokeh_is_loading === 0) {\n    console.log(\"Bokeh: BokehJS loaded, going straight to plotting\");\n    run_inline_js();\n  } else {\n    load_libs(js_urls, function() {\n      console.log(\"Bokeh: BokehJS plotting callback run at\", now());\n      run_inline_js();\n    });\n  }\n}(window));"
     },
     "metadata": {},
     "output_type": "display_data"
    },
    {
     "data": {
      "text/html": [
       "\n",
       "<div class=\"bk-root\">\n",
       "    <div class=\"bk-plotdiv\" id=\"6aaa45f4-296e-4a80-b93e-eaa327b837ed\"></div>\n",
       "</div>"
      ]
     },
     "metadata": {},
     "output_type": "display_data"
    },
    {
     "data": {
      "application/javascript": [
       "(function(root) {\n",
       "  function embed_document(root) {\n",
       "    var docs_json = {\"1d93c6b5-f92c-4ec0-8cea-ab1245092141\":{\"roots\":{\"references\":[{\"attributes\":{\"data_source\":{\"id\":\"83f0c210-5741-4f4c-bc9c-33f42095681f\",\"type\":\"ColumnDataSource\"},\"glyph\":{\"id\":\"e7e0a458-5e3b-4738-925f-c7ad26ce6da2\",\"type\":\"Line\"},\"hover_glyph\":null,\"muted_glyph\":null,\"nonselection_glyph\":{\"id\":\"8b37be5e-db4e-4d0f-a2c8-c80eddf6a71d\",\"type\":\"Line\"},\"selection_glyph\":null,\"view\":{\"id\":\"928f217c-898a-40aa-9b18-a663a699ece1\",\"type\":\"CDSView\"}},\"id\":\"c3c518d9-e664-4e85-a577-dc9a143fc86a\",\"type\":\"GlyphRenderer\"},{\"attributes\":{\"source\":{\"id\":\"83f0c210-5741-4f4c-bc9c-33f42095681f\",\"type\":\"ColumnDataSource\"}},\"id\":\"928f217c-898a-40aa-9b18-a663a699ece1\",\"type\":\"CDSView\"},{\"attributes\":{\"below\":[{\"id\":\"7e9e0b37-9377-4701-905d-22e950e4a1ab\",\"type\":\"LinearAxis\"}],\"left\":[{\"id\":\"da3b38bd-d366-4c08-8fa0-aa9160ac72b5\",\"type\":\"LinearAxis\"}],\"renderers\":[{\"id\":\"7e9e0b37-9377-4701-905d-22e950e4a1ab\",\"type\":\"LinearAxis\"},{\"id\":\"cc772290-e7ec-4b87-92d6-f6db13a1af4f\",\"type\":\"Grid\"},{\"id\":\"da3b38bd-d366-4c08-8fa0-aa9160ac72b5\",\"type\":\"LinearAxis\"},{\"id\":\"fc601fa0-b1c8-415a-a756-e683b06f1af9\",\"type\":\"Grid\"},{\"id\":\"c586f783-1ad9-4280-b6a2-2a45ca850da5\",\"type\":\"BoxAnnotation\"},{\"id\":\"5b6eb922-6ead-40b8-9005-ce801ffb5a86\",\"type\":\"Legend\"},{\"id\":\"f8d4ffb2-2c9c-4cbc-bf11-2570b01fc1ef\",\"type\":\"GlyphRenderer\"},{\"id\":\"c3c518d9-e664-4e85-a577-dc9a143fc86a\",\"type\":\"GlyphRenderer\"},{\"id\":\"98600525-3906-4895-8e04-262129176680\",\"type\":\"GlyphRenderer\"}],\"title\":{\"id\":\"bf45b68c-7380-4cfa-8119-581bcfcea769\",\"type\":\"Title\"},\"toolbar\":{\"id\":\"63e8b2aa-4aa8-4329-a60e-8c0b97ea44a1\",\"type\":\"Toolbar\"},\"x_range\":{\"id\":\"e6748e7c-8f31-4652-856c-a7a507de705c\",\"type\":\"DataRange1d\"},\"x_scale\":{\"id\":\"f995d3c2-a7e5-422c-8e2f-9cfa9d83d6d5\",\"type\":\"LinearScale\"},\"y_range\":{\"id\":\"6f6f058b-35cf-4954-826f-bb2bb1af5bde\",\"type\":\"DataRange1d\"},\"y_scale\":{\"id\":\"55641bd7-076d-465f-8b31-2c44d21857cb\",\"type\":\"LinearScale\"}},\"id\":\"da2e98f1-c741-4a92-b3eb-e2a1c8985ac3\",\"subtype\":\"Figure\",\"type\":\"Plot\"},{\"attributes\":{\"overlay\":{\"id\":\"c586f783-1ad9-4280-b6a2-2a45ca850da5\",\"type\":\"BoxAnnotation\"}},\"id\":\"c77deaf9-5684-413d-9d46-34a390f582f3\",\"type\":\"BoxZoomTool\"},{\"attributes\":{\"label\":{\"value\":\"gd\"},\"renderers\":[{\"id\":\"f8d4ffb2-2c9c-4cbc-bf11-2570b01fc1ef\",\"type\":\"GlyphRenderer\"}]},\"id\":\"22c6d32d-04eb-441e-98f8-c9cc9b4ed6ca\",\"type\":\"LegendItem\"},{\"attributes\":{\"line_alpha\":{\"value\":0.1},\"line_color\":{\"value\":\"#1f77b4\"},\"x\":{\"field\":\"x\"},\"y\":{\"field\":\"y\"}},\"id\":\"81b46143-ea36-4752-ae48-9d3499d64fe3\",\"type\":\"Line\"},{\"attributes\":{\"label\":{\"value\":\"rmsprop\"},\"renderers\":[{\"id\":\"c3c518d9-e664-4e85-a577-dc9a143fc86a\",\"type\":\"GlyphRenderer\"}]},\"id\":\"d0f32765-db9a-48d3-a6a5-7af6472fb8bb\",\"type\":\"LegendItem\"},{\"attributes\":{\"plot\":null,\"text\":\"\"},\"id\":\"bf45b68c-7380-4cfa-8119-581bcfcea769\",\"type\":\"Title\"},{\"attributes\":{\"label\":{\"value\":\"rmsprop+momentum\"},\"renderers\":[{\"id\":\"98600525-3906-4895-8e04-262129176680\",\"type\":\"GlyphRenderer\"}]},\"id\":\"48e15b6f-0bc8-4b86-b367-90574785ad21\",\"type\":\"LegendItem\"},{\"attributes\":{},\"id\":\"e1b14a53-c00f-43e6-8778-595048426807\",\"type\":\"WheelZoomTool\"},{\"attributes\":{},\"id\":\"a92fa0ba-d0d9-483f-81bf-29854f0048e7\",\"type\":\"SaveTool\"},{\"attributes\":{\"source\":{\"id\":\"fae8d79a-b62b-4e71-9d58-a60cc9de2754\",\"type\":\"ColumnDataSource\"}},\"id\":\"96d256d9-cb5e-4018-9e6e-8b3fca482424\",\"type\":\"CDSView\"},{\"attributes\":{\"line_color\":{\"value\":\"red\"},\"x\":{\"field\":\"x\"},\"y\":{\"field\":\"y\"}},\"id\":\"e3b9ba7b-8715-4f15-8652-619c8619ddcd\",\"type\":\"Line\"},{\"attributes\":{},\"id\":\"c34640b7-aa31-4622-858a-c321e459e692\",\"type\":\"ResetTool\"},{\"attributes\":{\"line_alpha\":{\"value\":0.1},\"line_color\":{\"value\":\"#1f77b4\"},\"x\":{\"field\":\"x\"},\"y\":{\"field\":\"y\"}},\"id\":\"c4910032-b92a-4fc8-9658-99924094b8c3\",\"type\":\"Line\"},{\"attributes\":{\"line_color\":{\"value\":\"green\"},\"x\":{\"field\":\"x\"},\"y\":{\"field\":\"y\"}},\"id\":\"e7e0a458-5e3b-4738-925f-c7ad26ce6da2\",\"type\":\"Line\"},{\"attributes\":{\"bottom_units\":\"screen\",\"fill_alpha\":{\"value\":0.5},\"fill_color\":{\"value\":\"lightgrey\"},\"left_units\":\"screen\",\"level\":\"overlay\",\"line_alpha\":{\"value\":1.0},\"line_color\":{\"value\":\"black\"},\"line_dash\":[4,4],\"line_width\":{\"value\":2},\"plot\":null,\"render_mode\":\"css\",\"right_units\":\"screen\",\"top_units\":\"screen\"},\"id\":\"c586f783-1ad9-4280-b6a2-2a45ca850da5\",\"type\":\"BoxAnnotation\"},{\"attributes\":{\"data_source\":{\"id\":\"4145e818-a02a-48c9-a921-1ce07b36a163\",\"type\":\"ColumnDataSource\"},\"glyph\":{\"id\":\"e3b9ba7b-8715-4f15-8652-619c8619ddcd\",\"type\":\"Line\"},\"hover_glyph\":null,\"muted_glyph\":null,\"nonselection_glyph\":{\"id\":\"81b46143-ea36-4752-ae48-9d3499d64fe3\",\"type\":\"Line\"},\"selection_glyph\":null,\"view\":{\"id\":\"c7d8c6a3-63ff-4a13-a513-68c258f7b119\",\"type\":\"CDSView\"}},\"id\":\"98600525-3906-4895-8e04-262129176680\",\"type\":\"GlyphRenderer\"},{\"attributes\":{},\"id\":\"1b2a0679-74f0-49c8-a21a-73c72190d760\",\"type\":\"PanTool\"},{\"attributes\":{\"callback\":null,\"column_names\":[\"x\",\"y\"],\"data\":{\"x\":[0,1,2,3,4,5,6,7,8,9,10,11,12,13,14,15,16,17,18,19,20,21,22,23,24,25,26,27,28,29,30,31,32,33,34,35,36,37,38,39,40,41,42,43,44,45,46,47,48,49,50,51,52,53,54,55,56,57,58,59,60,61,62,63,64,65,66,67,68,69,70,71,72,73,74,75,76,77,78,79,80,81,82,83,84,85,86,87,88,89,90,91,92,93,94,95,96,97,98,99,100,101,102,103,104,105,106,107,108,109,110,111,112,113,114,115,116,117,118,119,120,121,122,123,124,125,126,127,128,129,130,131,132,133,134,135,136,137,138,139,140,141,142,143,144,145,146,147,148,149,150,151,152,153,154,155,156,157,158,159,160,161,162,163,164,165,166,167,168,169,170,171,172,173,174,175,176,177,178,179,180,181,182,183,184,185,186,187,188,189,190,191,192,193,194,195,196,197,198,199,200,201,202,203,204,205,206,207,208,209,210,211,212,213,214,215,216,217,218,219,220,221,222,223,224,225,226,227,228,229,230,231,232,233,234,235,236,237,238,239,240,241,242,243,244,245,246,247,248,249,250,251,252,253,254,255,256,257,258,259,260,261,262,263,264,265,266,267,268,269,270,271,272,273,274,275,276,277,278,279,280,281,282,283,284,285,286,287,288,289,290,291,292,293,294,295,296,297,298,299],\"y\":[4.565469241724881,4.323801879880114,4.148470106090875,4.0068268940452185,3.8855671122141455,3.7780434872702715,3.680567722750155,3.5909250966159196,3.507652552362475,3.4297146088849133,3.356334518182458,3.286911849135425,3.2209697863913442,3.158124715041163,3.098062466838738,3.040523437099828,2.9852892465876333,2.9321749886997366,2.8810208107281183,2.8316888002427216,2.7840564337991234,2.7380182591125424,2.693478113138192,2.650367212146636,2.6086320257149502,2.568233517618328,2.528847053897311,2.490627187432216,2.453518477781203,2.41750003030704,2.382491583539548,2.348463155892808,2.315364936379015,2.283169256267812,2.2518351309694986,2.221337175606867,2.1916378058019106,2.1627163846343236,2.134536317601386,2.1070882422804256,2.0803230436968154,2.054239422076902,2.0287480693975706,2.003886143561634,1.979598609835129,1.9559084302780654,1.9327701607128283,1.910185212993782,1.8881211674650875,1.8665763196550582,1.8455249533356644,1.8249666007550682,1.8048769090685628,1.7852594712401202,1.7660851033204275,1.747363859807558,1.7290533495114722,1.7111724013777432,1.693673805928329,1.6765826422984818,1.659858468820778,1.6435181845364673,1.6275271969941592,1.6118946662674567,1.5965901340422115,1.5816205414247264,1.5669566209302552,1.5526070717865557,1.5385402555518362,1.5247695381561897,1.5112574362297235,1.4980236682333847,1.4850254975664097,1.4722885182231884,1.459770107446804,1.4474976060062787,1.4354317188372332,1.423597721829001,1.411959521465695,1.400540120983899,1.3893051945546842,1.3782768933730587,1.3674209289578443,1.3567598868975095,1.3462585452752722,1.3359447774628403,1.3258472447746594,1.3166474771797008,1.3066530921231685,1.2967311247915567,1.2870341062730253,1.2776100489595854,1.2683196625213788,1.2591800964454016,1.2501383025196702,1.241223409435717,1.2323941306207158,1.2236808567762858,1.2150435785104896,1.2065160156818973,1.198057895126415,1.1897132476451173,1.1814437744808195,1.1733238917680424,1.1652676225987546,1.157325236402702,1.1492901893900813,1.1416611827021979,1.1348583662422995,1.1267323548662451,1.1184854488648872,1.1106516643802657,1.1030232114399254,1.0955444772595684,1.0881194736766353,1.0807947694617561,1.073505463704058,1.0663191568120416,1.0591628809657188,1.0521195173117992,1.0450843347553842,1.0381683183058017,1.0313867887236943,1.0253608261206062,1.0194437920140353,1.01222432883801,1.0052848276638346,0.9986093406402491,0.9920430095159737,0.9856231697639288,0.9792674898554671,0.9736169892517874,0.9679391749810513,0.961063783823123,0.954636935866091,0.9485270262314006,0.9424541922674109,0.9364938363366752,0.9305149128631872,0.9246362267223347,0.9187285152198951,0.9129002836551332,0.9070538048216428,0.9013229396843992,0.8956706946440712,0.8900847237927118,0.8844773137330488,0.8788441962925987,0.8732642624295421,0.8678592106118541,0.8625448315437164,0.8572274286134957,0.851763478189973,0.8463523253814323,0.8409658487264424,0.8356927933303604,0.8304178752045878,0.8252274521522255,0.8200254073990497,0.8149075736518103,0.8097971397701967,0.8047786273635481,0.7997883678780587,0.794877403589935,0.7899902377240091,0.785155509102285,0.7803109079590067,0.7754915373439728,0.7706472591190564,0.7658570668632811,0.7610684478907619,0.756354267637775,0.7516418490664735,0.7470012528754061,0.7423601834469675,0.7377904000589229,0.7332257813555464,0.7287335340612286,0.7242526712171737,0.7198360474336079,0.7154252481528561,0.7110565903409485,0.706682147731839,0.7023397151134704,0.6979956839723693,0.6936940295103596,0.6893982765113408,0.6851530054629997,0.6809142363493184,0.6767278500326488,0.6725473206780999,0.6684188088122759,0.6642966306278836,0.6602233094210364,0.6561559075547285,0.6521299945858817,0.6481084522692939,0.6441206963258334,0.6401379427456606,0.636186191808589,0.6322421273374178,0.628330184149672,0.6244276857418953,0.620559221182629,0.6167004625056711,0.6128768126207716,0.6090623720765515,0.6052824559021828,0.6015108759254589,0.5977714141292102,0.5940394685402004,0.5903365463167081,0.5866412908972561,0.5829728875947121,0.5793133930898818,0.5756797351754603,0.572056236117259,0.5684580901847853,0.5648706597532285,0.5613083686776846,0.5577567394407845,0.5542300617129187,0.550713571556122,0.5472214809376048,0.5437389138929175,0.5402798238391386,0.5368298484244607,0.5334024836090632,0.5299844084072592,0.526588378216329,0.5232022194314401,0.5198376615882857,0.5164835222530764,0.5131504675628201,0.5098280832776617,0.5065262214988144,0.5032349684696615,0.49996371474162904,0.49670279152965496,0.49346141957797085,0.49023005522792934,0.4870179095861474,0.4838156008552839,0.4806323176701297,0.4774589404228724,0.47430445869330506,0.4711601127622562,0.4680344592041953,0.46491918033514623,0.46182224529230254,0.45873581899002375,0.45566728232766146,0.45260924930463114,0.44956865219383785,0.446538455114157,0.4435253441849632,0.4405225168145045,0.43753657789460126,0.4345608723421321,0.43160197825516455,0.42865336173879937,0.42572150946137916,0.4228000456310934,0.41989523398895034,0.41700093334173777,0.41412306239158453,0.41125578818643743,0.4084046325546659,0.4055641038442405,0.40273936473540617,0.3999252436150211,0.3971266424996211,0.39433864801192897,0.39156600317762913,0.3888039827295769,0.3860572245058156,0.38332114694456265,0.38060027065574364,0.3778901572170637,0.3751951500643688,0.37251099102667756,0.3698417767129845,0.3671834799348786,0.3645399080183242,0.36190730196285675,0.35928918231325835,0.35668206504376015,0.35408922325611947,0.3515074242290798,0.34893974359503876,0.34638316102869,0.3438405879851102,0.3413091837941192,0.33879169859115493,0.33628546047012026,0.3337930348892724,0.33131193204051457,0.3288444996535925,0.326388457368005,0.32394591074449003]}},\"id\":\"83f0c210-5741-4f4c-bc9c-33f42095681f\",\"type\":\"ColumnDataSource\"},{\"attributes\":{\"source\":{\"id\":\"4145e818-a02a-48c9-a921-1ce07b36a163\",\"type\":\"ColumnDataSource\"}},\"id\":\"c7d8c6a3-63ff-4a13-a513-68c258f7b119\",\"type\":\"CDSView\"},{\"attributes\":{\"formatter\":{\"id\":\"5a2e6043-a98b-40d0-af11-92a0a89a16ef\",\"type\":\"BasicTickFormatter\"},\"plot\":{\"id\":\"da2e98f1-c741-4a92-b3eb-e2a1c8985ac3\",\"subtype\":\"Figure\",\"type\":\"Plot\"},\"ticker\":{\"id\":\"5d23e819-d8f3-449e-b144-0ffddded5f3c\",\"type\":\"BasicTicker\"}},\"id\":\"7e9e0b37-9377-4701-905d-22e950e4a1ab\",\"type\":\"LinearAxis\"},{\"attributes\":{\"line_alpha\":{\"value\":0.1},\"line_color\":{\"value\":\"#1f77b4\"},\"x\":{\"field\":\"x\"},\"y\":{\"field\":\"y\"}},\"id\":\"8b37be5e-db4e-4d0f-a2c8-c80eddf6a71d\",\"type\":\"Line\"},{\"attributes\":{},\"id\":\"e678df27-d4c1-43bf-bc55-cf39df9d2ea6\",\"type\":\"BasicTicker\"},{\"attributes\":{\"plot\":{\"id\":\"da2e98f1-c741-4a92-b3eb-e2a1c8985ac3\",\"subtype\":\"Figure\",\"type\":\"Plot\"},\"ticker\":{\"id\":\"5d23e819-d8f3-449e-b144-0ffddded5f3c\",\"type\":\"BasicTicker\"}},\"id\":\"cc772290-e7ec-4b87-92d6-f6db13a1af4f\",\"type\":\"Grid\"},{\"attributes\":{\"callback\":null,\"column_names\":[\"x\",\"y\"],\"data\":{\"x\":[0,1,2,3,4,5,6,7,8,9,10,11,12,13,14,15,16,17,18,19,20,21,22,23,24,25,26,27,28,29,30,31,32,33,34,35,36,37,38,39,40,41,42,43,44,45,46,47,48,49,50,51,52,53,54,55,56,57,58,59,60,61,62,63,64,65,66,67,68,69,70,71,72,73,74,75,76,77,78,79,80,81,82,83,84,85,86,87,88,89,90,91,92,93,94,95,96,97,98,99,100,101,102,103,104,105,106,107,108,109,110,111,112,113,114,115,116,117,118,119,120,121,122,123,124,125,126,127,128,129,130,131,132,133,134,135,136,137,138,139,140,141,142,143,144,145,146,147,148,149,150,151,152,153,154,155,156,157,158,159,160,161,162,163,164,165,166,167,168,169,170,171,172,173,174,175,176,177,178,179,180,181,182,183,184,185,186,187,188,189,190,191,192,193,194,195,196,197,198,199,200,201,202,203,204,205,206,207,208,209,210,211,212,213,214,215,216,217,218,219,220,221,222,223,224,225,226,227,228,229,230,231,232,233,234,235,236,237,238,239,240,241,242,243,244,245,246,247,248,249,250,251,252,253,254,255,256,257,258,259,260,261,262,263,264,265,266,267,268,269,270,271,272,273,274,275,276,277,278,279,280,281,282,283,284,285,286,287,288,289,290,291,292,293,294,295,296,297,298,299],\"y\":[4.565469241724881,4.065146843674193,3.6605839598954377,3.360858945723255,3.120127688996757,2.8947645951798453,2.6620481676746177,2.422033912677105,2.195849959433284,2.0134539025741214,1.8932364523413447,1.8288053311177916,1.792847709798004,1.7546749043760097,1.697126702428614,1.6212428837003807,1.5391644326331075,1.4632984562539546,1.3991637607789682,1.3447274480335416,1.2946905942464917,1.2458141639134017,1.1993269912247502,1.15896348091384,1.1266961664323538,1.1000899766253152,1.073755009432979,1.0434260141725593,1.0088105397947997,0.9727358627319957,0.9378531640630989,0.9046741564004784,0.8727159271746446,0.8424125184147274,0.8149282173239707,0.7904481252822827,0.7676744361820875,0.7451173772674236,0.7222709922760129,0.6994766297814247,0.6771368673172333,0.6553689086712531,0.6342184275363592,0.6137804403360896,0.5938907500466518,0.5741190434511433,0.5542281131764274,0.5342865118173055,0.5145182439606838,0.4953416644007481,0.476995089226262,0.45926456651083464,0.44192984458479034,0.4248279552120465,0.4077264468070025,0.39068367433964,0.37405326102298336,0.35789588663406335,0.34201427123301553,0.3263840849017584,0.3108915388160728,0.295586961441834,0.2807449288702484,0.2663343746334232,0.252115442443593,0.23798147093458338,0.2241229513198824,0.2106713654119865,0.19753262647211217,0.18469581026984164,0.17225032878784816,0.1602465970968368,0.14864169620495105,0.13739356906820188,0.12653596159356648,0.11616819362214134,0.1063512528225283,0.09707358165622539,0.0884002623530299,0.08030510003617466,0.07230809511259892,0.06452723402170484,0.05773619091942172,0.05169509277622068,0.04559892440318447,0.039820740770224114,0.03490771341219862,0.030424767374335443,0.026163571341435262,0.022415114163534863,0.019254136955185276,0.016022728410890048,0.013042482390142851,0.010949782880874625,0.009237510178760323,0.007548431073191137,0.005665493325836554,0.005128146674781562,0.004079439895436708,0.002518021474098529,0.002601428324479999,0.001899205918251928,0.001124739293713599,0.0015209844533022824,0.0010305064855314033,0.0008988054596987604,0.0010683474634972869,0.0006833242687779001,0.0009039014657736335,0.0012262334884157173,0.0008615816729100376,0.0008014879348218942,0.0011856170308847784,0.00118528612983365,0.0010924776637987327,0.0011470186073013788,0.001190058878834225,0.001146815283918086,0.0010720323016477351,0.0011809500091606924,0.0011929408792913019,0.0011696242172208945,0.0011435916374590025,0.0010118902304010352,0.0009710320477263031,0.0008635572172946426,0.0009522685458338018,0.0011281672776914705,0.0009820071403215873,0.000730792118128027,0.0005697905695788403,0.0007690288878853558,0.0009295071325629478,0.0007389014293174166,0.0005152056465547296,0.00046737734750590697,0.0007201841091032148,0.0007442609442337556,0.000556050855784276,0.0004243256990148272,0.000478927095618712,0.0007063699506439183,0.0006286621869321809,0.0004886377971256452,0.0004051675105942232,0.0005223433518941958,0.0007102056332039258,0.0005880231063226759,0.00047026953888788434,0.00040109158995997943,0.0005727663554663728,0.0007205459015781488,0.0005731613509502088,0.0004540138933250746,0.00040637304973074434,0.000625461359119943,0.0007144291222839088,0.00055138826548482,0.0004308667386146785,0.0004268352121478686,0.0006721697730717362,0.0006851818250017927,0.0005212609375069214,0.00040828024078113273,0.00046293140167590703,0.0007036451147992257,0.0006432795448398007,0.0004920661486147098,0.00039288876492146166,0.0005100731634806943,0.0007174352882313554,0.000601599305017559,0.000466594265078001,0.0003881068584162672,0.0005628937178415931,0.0007150800987042739,0.0005659452153924489,0.00044282322598457877,0.0003963400535807366,0.0006160982503491755,0.0006987727614826389,0.0005359758109888861,0.00042014262805430754,0.0004197454229861379,0.0006632930549449052,0.0006710680747803395,0.0005099942091611949,0.0004008329195937707,0.0004580160323331789,0.0006978505784482503,0.0006360720628281952,0.00048653043750877784,0.00038842146590292113,0.0005075753985058448,0.0007151729672292568,0.0005992565780318371,0.0004641310154107831,0.00038599419593652917,0.0005627699660274091,0.0007144693169015705,0.0005650275657018274,0.00044161870274837453,0.00039615651004385973,0.0006172116138470452,0.0006980545067449117,0.0005351147684530777,0.00041945943951873966,0.00042069331567016967,0.0006644333513519151,0.0006698142758028883,0.0005090861414610645,0.00040038660872961855,0.00045934773605980813,0.0006984324735393548,0.0006346796087184287,0.00048567304750929505,0.00038809586603666933,0.0005089837895075266,0.000715206104446777,0.0005980224366915594,0.00046331299715341416,0.00038590973569080025,0.0005641886781641097,0.000714082063524504,0.0005640051536169705,0.0004408183316980512,0.0003964924920921611,0.0006185750184500771,0.0006973155351893604,0.0005342483082925497,0.0004187576476916812,0.0004215337212485261,0.0006655641304209079,0.0006688244117654576,0.0005083374275957346,0.0003998846864534431,0.000460629434009226,0.0006991458874039011,0.0006335853564050711,0.00048500380853540737,0.00038787444653991975,0.0005105320949778884,0.0007154110715416892,0.0005969750626814026,0.0004626642035550799,0.00038602830439108223,0.0005658064449321962,0.0007137984791321965,0.0005630812871514945,0.00044016479775615237,0.0003970074655553443,0.0006200679257713823,0.0006966349313907971,0.0005334490258134555,0.00041814634036996257,0.000422472292169693,0.0006667467925850805,0.0006678722389910714,0.0005076311237072964,0.000399419512931747,0.0004619402455834845,0.0006998682612008577,0.0006325178430350309,0.00048434828826610316,0.00038766157009257425,0.0005120838987531581,0.0007156075230298454,0.0005959396974948748,0.00046201607892169653,0.0003861535111083997,0.0005674218742914949,0.0007135027923548637,0.0005621611974681856,0.0004395110550934288,0.0003975365800154409,0.000621556430974071,0.0006959431414791002,0.0005326529025072839,0.00041754048886983994,0.00042342693394519686,0.0006679212113286141,0.0006669153558354452,0.0005069287912165966,0.0003989638217973319,0.00046326407089992955,0.0007005786928348558,0.000631451886737932,0.0004836962885211699,0.0003874596034534425,0.0005136422765018349,0.0007157912893701801,0.000594909159093387,0.00046136923632028874,0.00038629072959693865,0.0005690373610773575,0.0007131952749254906,0.000561246003041017,0.00043885818620181436,0.00039807834081148917,0.0006230388777241962]}},\"id\":\"4145e818-a02a-48c9-a921-1ce07b36a163\",\"type\":\"ColumnDataSource\"},{\"attributes\":{\"formatter\":{\"id\":\"151cd4bd-57f3-4212-b481-40c79ed07212\",\"type\":\"BasicTickFormatter\"},\"plot\":{\"id\":\"da2e98f1-c741-4a92-b3eb-e2a1c8985ac3\",\"subtype\":\"Figure\",\"type\":\"Plot\"},\"ticker\":{\"id\":\"e678df27-d4c1-43bf-bc55-cf39df9d2ea6\",\"type\":\"BasicTicker\"}},\"id\":\"da3b38bd-d366-4c08-8fa0-aa9160ac72b5\",\"type\":\"LinearAxis\"},{\"attributes\":{},\"id\":\"f995d3c2-a7e5-422c-8e2f-9cfa9d83d6d5\",\"type\":\"LinearScale\"},{\"attributes\":{\"items\":[{\"id\":\"22c6d32d-04eb-441e-98f8-c9cc9b4ed6ca\",\"type\":\"LegendItem\"},{\"id\":\"d0f32765-db9a-48d3-a6a5-7af6472fb8bb\",\"type\":\"LegendItem\"},{\"id\":\"48e15b6f-0bc8-4b86-b367-90574785ad21\",\"type\":\"LegendItem\"}],\"plot\":{\"id\":\"da2e98f1-c741-4a92-b3eb-e2a1c8985ac3\",\"subtype\":\"Figure\",\"type\":\"Plot\"}},\"id\":\"5b6eb922-6ead-40b8-9005-ce801ffb5a86\",\"type\":\"Legend\"},{\"attributes\":{},\"id\":\"5a2e6043-a98b-40d0-af11-92a0a89a16ef\",\"type\":\"BasicTickFormatter\"},{\"attributes\":{\"active_drag\":\"auto\",\"active_inspect\":\"auto\",\"active_scroll\":\"auto\",\"active_tap\":\"auto\",\"tools\":[{\"id\":\"1b2a0679-74f0-49c8-a21a-73c72190d760\",\"type\":\"PanTool\"},{\"id\":\"e1b14a53-c00f-43e6-8778-595048426807\",\"type\":\"WheelZoomTool\"},{\"id\":\"c77deaf9-5684-413d-9d46-34a390f582f3\",\"type\":\"BoxZoomTool\"},{\"id\":\"a92fa0ba-d0d9-483f-81bf-29854f0048e7\",\"type\":\"SaveTool\"},{\"id\":\"c34640b7-aa31-4622-858a-c321e459e692\",\"type\":\"ResetTool\"},{\"id\":\"1db0987d-bd45-414a-b7e7-a43052874a27\",\"type\":\"HelpTool\"}]},\"id\":\"63e8b2aa-4aa8-4329-a60e-8c0b97ea44a1\",\"type\":\"Toolbar\"},{\"attributes\":{},\"id\":\"151cd4bd-57f3-4212-b481-40c79ed07212\",\"type\":\"BasicTickFormatter\"},{\"attributes\":{\"dimension\":1,\"plot\":{\"id\":\"da2e98f1-c741-4a92-b3eb-e2a1c8985ac3\",\"subtype\":\"Figure\",\"type\":\"Plot\"},\"ticker\":{\"id\":\"e678df27-d4c1-43bf-bc55-cf39df9d2ea6\",\"type\":\"BasicTicker\"}},\"id\":\"fc601fa0-b1c8-415a-a756-e683b06f1af9\",\"type\":\"Grid\"},{\"attributes\":{\"callback\":null,\"column_names\":[\"x\",\"y\"],\"data\":{\"x\":[0,1,2,3,4,5,6,7,8,9,10,11,12,13,14,15,16,17,18,19,20,21,22,23,24,25,26,27,28,29,30,31,32,33,34,35,36,37,38,39,40,41,42,43,44,45,46,47,48,49,50,51,52,53,54,55,56,57,58,59,60,61,62,63,64,65,66,67,68,69,70,71,72,73,74,75,76,77,78,79,80,81,82,83,84,85,86,87,88,89,90,91,92,93,94,95,96,97,98,99,100,101,102,103,104,105,106,107,108,109,110,111,112,113,114,115,116,117,118,119,120,121,122,123,124,125,126,127,128,129,130,131,132,133,134,135,136,137,138,139,140,141,142,143,144,145,146,147,148,149,150,151,152,153,154,155,156,157,158,159,160,161,162,163,164,165,166,167,168,169,170,171,172,173,174,175,176,177,178,179,180,181,182,183,184,185,186,187,188,189,190,191,192,193,194,195,196,197,198,199,200,201,202,203,204,205,206,207,208,209,210,211,212,213,214,215,216,217,218,219,220,221,222,223,224,225,226,227,228,229,230,231,232,233,234,235,236,237,238,239,240,241,242,243,244,245,246,247,248,249,250,251,252,253,254,255,256,257,258,259,260,261,262,263,264,265,266,267,268,269,270,271,272,273,274,275,276,277,278,279,280,281,282,283,284,285,286,287,288,289,290,291,292,293,294,295,296,297,298,299],\"y\":[3.7956839999999996,3.3351323370399997,3.0643780878696902,2.8663133160863796,2.709871095515805,2.5826105191316024,2.4773070682731353,2.3889584519645815,2.313888970826335,2.2493408708869658,2.193222631075687,2.1439339380207363,2.1002393319532247,2.0611759221091703,2.0259856576660495,1.9940654502036648,1.9649303154016904,1.9381860283229047,1.9135087435782494,1.8906297253114754,1.8693238354819772,1.8494007947084814,1.830698495786946,1.8130778433214139,1.7964187335832966,1.7806168911613118,1.7655813536420415,1.7512324500605299,1.737500158690286,1.724322758901168,1.7116457132050729,1.6994207313416192,1.6876049798607315,1.6761604092496425,1.6650531770377994,1.6542531500836168,1.6437334728309678,1.6334701910334037,1.6234419225085714,1.6136295680708999,1.6040160570194548,1.5945861225194242,1.5853261029759214,1.5762237661061556,1.5672681529065884,1.5584494391120665,1.5497588120741723,1.5411883612610682,1.5327309808122986,1.524380282778009,1.5161305198394097,1.507976516451257,1.4999136074716104,1.491937583452362,1.4840446418585298,1.476231343567135,1.4684945740692903,1.4608315088633097,1.4532395825833397,1.4457164614581801,1.4382600187394323,1.4308683127775625,1.423539567459519,1.4162721547526929,1.409064579127732,1.4019154636573845,1.3948235376105171,1.3877876253800259,1.3808066366007867,1.3738795573293439,1.3670054421708842,1.3601834072514054,1.3534126239439923,1.3466923132679576,1.3400217408883457,1.3334002126511295,1.326827070596404,1.3203016893980841,1.313823473184185,1.3073918526966926,1.3010062827544704,1.2946662399865672,1.288371220806819,1.2821207396037775,1.2759143271227817,1.2697515290195058,1.2636319045665216,1.2575550254964227,1.2515204749668218,1.2455278466341067,1.2395767438242717,1.2336667787903832,1.22779757204737,1.2219687517758344,1.2161799532874678,1.2104308185454602,1.204720995733996,1.1990501388715804,1.1934179074634854,1.1878239661891328,1.182267984620667,1.1767496369693817,1.1712686018570226,1.1658245621093026,1.1604172045692664,1.1550462199283804,1.1497113025734622,1.1444121504477651,1.1391484649247128,1.1339199506929396,1.1287263156514442,1.1235672708137827,1.1184425302203498,1.1133518108578946,1.1082948325855186,1.1032713180664628,1.098280992705096,1.093323584588554,1.0883988244325462,1.0835064455309078,1.0786461837085068,1.0738177772771627,1.0690209669942732,1.0642554960238773,1.0595211098999058,1.0548175564914042,1.050144585969534,1.0455019507761762,1.0408894055939852,1.0363067073177494,1.0317536150269404,1.0272298899593373,1.022735295485625,1.0182695970848812,1.0138325623208733,1.0094239608190938,1.0050435642444668,1.0006911462796784,0.996366482604069,0.9920693508730541,0.9877995306980221,0.9835568036266792,0.9793409531238092,0.9751517645524156,0.9709890251552202,0.966852524036498,0.9627420521442241,0.9586574022525157,0.9545983689443494,0.9505647485945423,0.946556339352979,0.9425729411280769,0.9386143555704711,0.9346803860569195,0.9307708376744073,0.92688551720445,0.9230242331075869,0.9191867955080543,0.9153730161786363,0.9115827085256843,0.9078156875743033,0.904071769953696,0.9003507738826654,0.8966525191552678,0.8929768271266127,0.8893235206988112,0.8856924243070617,0.8820833639058776,0.8784961669554481,0.8749306624081358,0.8713866806951015,0.8678640537130613,0.8643626148111682,0.8608821987780187,0.8574226418287838,0.8539837815924581,0.8505654570992327,0.8471675087679806,0.8437897783938644,0.8404321091360528,0.8370943455055546,0.8337763333531637,0.830477919857514,0.8271989535132447,0.8239392841192744,0.8206987627671798,0.8174772418296827,0.8142745749492426,0.811090617026749,0.8079252242103208,0.8047782538842032,0.8016495646577704,0.7985390163546221,0.7954464700017817,0.7923717878189928,0.7893148332081102,0.7862754707425886,0.783253566157064,0.7802489863370314,0.7772615993086137,0.7742912742284238,0.7713378813735179,0.7684012921314382,0.7654813789903466,0.762578015529247,0.759691076408294,0.756820437359191,0.753965975175673,0.7511275677040753,0.7483050938339878,0.745498433488992,0.7427074676174821,0.7399320781835688,0.7371721481580625,0.734427561509543,0.7316982031955009,0.7289839591535676,0.7262847162928173,0.7236003624851507,0.720930786556754,0.7182758782796372,0.7156355283632445,0.7130096284461442,0.7103980710877896,0.7078007497603567,0.7052175588406526,0.7026483936020989,0.7000931502067853,0.6975517256975947,0.6950240179904004,0.6925099258663315,0.6900093489641086,0.6875221877724476,0.6850483436225334,0.6825877186805588,0.6801402159403317,0.6777057392159481,0.6752841931345309,0.672875483129035,0.6704795154311137,0.6680961970640543,0.6657254358357699,0.6633671403318626,0.661021219908741,0.6586875846868038,0.6563661455436846,0.6540568141075552,0.6517595027504894,0.6494741245818888,0.6472005934419632,0.6449388238952738,0.6426887312243305,0.640450231423251,0.6382232411914711,0.6360076779275168,0.633803459722828,0.631610505355641,0.6294287342849231,0.6272580666443636,0.6250984232364162,0.6229497255263987,0.6208118956366406,0.6186848563406873,0.6165685310575545,0.614462843846034,0.6123677193990507,0.6102830830380697,0.6082088607075553,0.6061449789694779,0.6040913649978698,0.6020479465734304,0.6000146520781825,0.5979914104901696,0.5959781513782083,0.5939748048966832,0.5919813017803887,0.5899975733394199,0.5880235514541045,0.5860591685699849,0.584104357692842,0.5821590523837652,0.5802231867542658,0.5782966954614338,0.5763795137031399,0.5744715772132775,0.5725728222570501,0.5706831856263002,0.5688026046348775,0.5669310171140528,0.5650683614079699,0.5632145763691377,0.5613696013539675,0.5595333762183428,0.5577058413132348,0.5558869374803552,0.5540766060478466,0.5522747888260138,0.5504814281030906,0.5486964666410474,0.5469198476714345]}},\"id\":\"fae8d79a-b62b-4e71-9d58-a60cc9de2754\",\"type\":\"ColumnDataSource\"},{\"attributes\":{\"callback\":null},\"id\":\"e6748e7c-8f31-4652-856c-a7a507de705c\",\"type\":\"DataRange1d\"},{\"attributes\":{\"line_color\":{\"value\":\"steelblue\"},\"x\":{\"field\":\"x\"},\"y\":{\"field\":\"y\"}},\"id\":\"6f5bc942-48dc-4851-878c-722b49f221b2\",\"type\":\"Line\"},{\"attributes\":{},\"id\":\"55641bd7-076d-465f-8b31-2c44d21857cb\",\"type\":\"LinearScale\"},{\"attributes\":{},\"id\":\"1db0987d-bd45-414a-b7e7-a43052874a27\",\"type\":\"HelpTool\"},{\"attributes\":{\"callback\":null},\"id\":\"6f6f058b-35cf-4954-826f-bb2bb1af5bde\",\"type\":\"DataRange1d\"},{\"attributes\":{\"data_source\":{\"id\":\"fae8d79a-b62b-4e71-9d58-a60cc9de2754\",\"type\":\"ColumnDataSource\"},\"glyph\":{\"id\":\"6f5bc942-48dc-4851-878c-722b49f221b2\",\"type\":\"Line\"},\"hover_glyph\":null,\"muted_glyph\":null,\"nonselection_glyph\":{\"id\":\"c4910032-b92a-4fc8-9658-99924094b8c3\",\"type\":\"Line\"},\"selection_glyph\":null,\"view\":{\"id\":\"96d256d9-cb5e-4018-9e6e-8b3fca482424\",\"type\":\"CDSView\"}},\"id\":\"f8d4ffb2-2c9c-4cbc-bf11-2570b01fc1ef\",\"type\":\"GlyphRenderer\"},{\"attributes\":{},\"id\":\"5d23e819-d8f3-449e-b144-0ffddded5f3c\",\"type\":\"BasicTicker\"}],\"root_ids\":[\"da2e98f1-c741-4a92-b3eb-e2a1c8985ac3\"]},\"title\":\"Bokeh Application\",\"version\":\"0.12.10\"}};\n",
       "    var render_items = [{\"docid\":\"1d93c6b5-f92c-4ec0-8cea-ab1245092141\",\"elementid\":\"6aaa45f4-296e-4a80-b93e-eaa327b837ed\",\"modelid\":\"da2e98f1-c741-4a92-b3eb-e2a1c8985ac3\"}];\n",
       "\n",
       "    root.Bokeh.embed.embed_items(docs_json, render_items);\n",
       "  }\n",
       "\n",
       "  if (root.Bokeh !== undefined) {\n",
       "    embed_document(root);\n",
       "  } else {\n",
       "    var attempts = 0;\n",
       "    var timer = setInterval(function(root) {\n",
       "      if (root.Bokeh !== undefined) {\n",
       "        embed_document(root);\n",
       "        clearInterval(timer);\n",
       "      }\n",
       "      attempts++;\n",
       "      if (attempts > 100) {\n",
       "        console.log(\"Bokeh: ERROR: Unable to embed document because BokehJS library is missing\")\n",
       "        clearInterval(timer);\n",
       "      }\n",
       "    }, 10, root)\n",
       "  }\n",
       "})(window);"
      ],
      "application/vnd.bokehjs_exec.v0+json": ""
     },
     "metadata": {
      "application/vnd.bokehjs_exec.v0+json": {
       "id": "da2e98f1-c741-4a92-b3eb-e2a1c8985ac3"
      }
     },
     "output_type": "display_data"
    }
   ],
   "source": [
    "output_notebook()\n",
    "\n",
    "plot = figure()\n",
    "plot.line(x=range(len(loss1)), y=loss1, color='steelblue', legend='gd')\n",
    "plot.line(x=range(len(loss2)), y=loss2, color='green', legend='rmsprop')\n",
    "plot.line(x=range(len(loss3)), y=loss3, color='red', legend='rmsprop+momentum')\n",
    "\n",
    "show(plot)"
   ]
  },
  {
   "cell_type": "code",
   "execution_count": null,
   "metadata": {
    "collapsed": true
   },
   "outputs": [],
   "source": []
  }
 ],
 "metadata": {
  "kernelspec": {
   "display_name": "Python 3",
   "language": "python",
   "name": "python3"
  },
  "language_info": {
   "codemirror_mode": {
    "name": "ipython",
    "version": 3
   },
   "file_extension": ".py",
   "mimetype": "text/x-python",
   "name": "python",
   "nbconvert_exporter": "python",
   "pygments_lexer": "ipython3",
   "version": "3.6.3"
  }
 },
 "nbformat": 4,
 "nbformat_minor": 2
}
