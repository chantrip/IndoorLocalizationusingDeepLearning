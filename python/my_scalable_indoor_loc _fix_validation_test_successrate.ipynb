{
 "cells": [
  {
   "cell_type": "code",
   "execution_count": 18,
   "metadata": {},
   "outputs": [],
   "source": [
    "import argparse\n",
    "import datetime\n",
    "import os\n",
    "import math\n",
    "import numpy as np\n",
    "import pandas as pd\n",
    "import sys\n",
    "from keras.utils import plot_model\n",
    "from sklearn.preprocessing import scale\n",
    "from timeit import default_timer as timer\n",
    "from IPython.display import SVG\n",
    "from keras.utils.vis_utils import model_to_dot\n",
    "\n",
    "import importlib\n",
    "import sys"
   ]
  },
  {
   "cell_type": "code",
   "execution_count": 19,
   "metadata": {
    "collapsed": true
   },
   "outputs": [],
   "source": [
    "### set paramter values\n",
    "#------------------------------------------------------------------------\n",
    "# general\n",
    "#------------------------------------------------------------------------\n",
    "training_ratio = 0.9            # ratio of training data to overall data\n",
    "input_dim = 520\n",
    "output_dim = 13                 # number of labels\n",
    "verbose = 1                     # 0 for turning off logging\n",
    "seed = 7                        # random number seed for reproducibility\n",
    "### global constant variables\n",
    "#------------------------------------------------------------------------\n",
    "# general\n",
    "#------------------------------------------------------------------------\n",
    "INPUT_DIM = 520                 #  number of APs\n",
    "VERBOSE = 1                     # 0 for turning off logging\n",
    "#------------------------------------------------------------------------\n",
    "# stacked auto encoder (sae)\n",
    "#------------------------------------------------------------------------\n",
    "# SAE_ACTIVATION = 'tanh'\n",
    "SAE_ACTIVATION = 'relu'\n",
    "SAE_BIAS = False\n",
    "SAE_OPTIMIZER = 'adam'\n",
    "SAE_LOSS = 'mse'\n",
    "#------------------------------------------------------------------------\n",
    "# classifier\n",
    "#------------------------------------------------------------------------\n",
    "CLASSIFIER_ACTIVATION = 'relu'\n",
    "CLASSIFIER_BIAS = False\n",
    "CLASSIFIER_OPTIMIZER = 'adam'\n",
    "CLASSIFIER_LOSS = 'binary_crossentropy'\n",
    "#CLASSIFIER_LOSS = 'categorical_crossentropy'\n",
    "#------------------------------------------------------------------------\n",
    "# input files\n",
    "#------------------------------------------------------------------------\n",
    "path_train = '../data/UJIIndoorLoc/trainingData2.csv'           # '-110' for the lack of AP.\n",
    "path_validation = '../data/UJIIndoorLoc/validationData2.csv'    # ditto\n",
    "#------------------------------------------------------------------------\n",
    "# output files\n",
    "#------------------------------------------------------------------------\n",
    "path_base = '../my_results/'\n",
    "path_out =  path_base + ''\n",
    "#path_sae_model = path_base + '_sae_model.hdf5'\n",
    "\n",
    "batch_size = 10\n",
    "epochs = 20\n",
    "#sae_hidden_layers = [256,128,64,128,256]\n",
    "sae_hidden_layers = [64, 128, 256, 512]\n",
    "#classifier_hidden_layers = [128,128]\n",
    "classifier_hidden_layers =  [64,512,128]\n",
    "dropout = 0.2\n",
    "N = 8\n",
    "scaling= 1\n",
    "\n",
    "random_seed = 0"
   ]
  },
  {
   "cell_type": "code",
   "execution_count": 20,
   "metadata": {
    "collapsed": true
   },
   "outputs": [],
   "source": [
    "### initialize random seed generator of numpy\n",
    "#import os\n",
    "#os.environ['PYTHONHASHSEED'] = '0'\n",
    "\n",
    "np.random.seed(random_seed)"
   ]
  },
  {
   "cell_type": "code",
   "execution_count": 21,
   "metadata": {
    "collapsed": true
   },
   "outputs": [],
   "source": [
    "import tensorflow as tf\n",
    "\n",
    "session_conf = tf.ConfigProto(intra_op_parallelism_threads=1, inter_op_parallelism_threads=1,device_count = {'GPU': 0})\n",
    "#session_conf = tf.ConfigProto(device_count = {'GPU': 0})\n",
    "from keras import backend as K\n",
    "tf.set_random_seed(random_seed)  # initialize random seed generator of tensorflow\n",
    "sess = tf.Session(graph=tf.get_default_graph(), config=session_conf)\n",
    "K.set_session(sess)\n",
    "\n",
    "from keras.layers import Dense, Dropout\n",
    "from keras.models import Sequential, load_model"
   ]
  },
  {
   "cell_type": "code",
   "execution_count": 22,
   "metadata": {
    "collapsed": true
   },
   "outputs": [],
   "source": [
    "train_df = pd.read_csv(path_train, header=0) # pass header=0 to be able to replace existing names\n",
    "test_df = pd.read_csv(path_validation, header=0)"
   ]
  },
  {
   "cell_type": "code",
   "execution_count": 23,
   "metadata": {
    "collapsed": true
   },
   "outputs": [],
   "source": [
    "traintest_df = train_df.append(test_df, ignore_index=True)"
   ]
  },
  {
   "cell_type": "code",
   "execution_count": null,
   "metadata": {
    "collapsed": true
   },
   "outputs": [],
   "source": []
  },
  {
   "cell_type": "code",
   "execution_count": 24,
   "metadata": {
    "collapsed": true
   },
   "outputs": [],
   "source": [
    "train_AP_features = scale(np.asarray(train_df.iloc[:,0:520]).astype(float), axis=1)\n"
   ]
  },
  {
   "cell_type": "code",
   "execution_count": 25,
   "metadata": {
    "collapsed": true
   },
   "outputs": [],
   "source": [
    " # add a new column\n",
    "traintest_df['REFPOINT'] = traintest_df.apply(lambda row: str(int(row['SPACEID'])) + str(int(row['RELATIVEPOSITION'])), axis=1)"
   ]
  },
  {
   "cell_type": "code",
   "execution_count": 26,
   "metadata": {
    "collapsed": true
   },
   "outputs": [],
   "source": [
    "blds = np.unique(traintest_df[['BUILDINGID']])\n",
    "flrs = np.unique(traintest_df[['FLOOR']])"
   ]
  },
  {
   "cell_type": "code",
   "execution_count": 27,
   "metadata": {
    "collapsed": true
   },
   "outputs": [],
   "source": [
    "x_avg = {}\n",
    "y_avg = {}\n",
    "for bld in blds:\n",
    "    for flr in flrs:\n",
    "        # map reference points to sequential IDs per building-floor before building labels\n",
    "        cond = (traintest_df['BUILDINGID']==bld) & (traintest_df['FLOOR']==flr)\n",
    "        \n",
    "        _, idx = np.unique(traintest_df.loc[cond, 'REFPOINT'], return_inverse=True) # refer to numpy.unique manual\n",
    "        traintest_df.loc[cond, 'REFPOINT'] = idx\n",
    "            \n",
    "        # calculate the average coordinates of each building/floor\n",
    "        x_avg[str(bld) + '-' + str(flr)] = np.mean(train_df.loc[cond[:len(train_df)], 'LONGITUDE'])\n",
    "        y_avg[str(bld) + '-' + str(flr)] = np.mean(train_df.loc[cond[:len(train_df)], 'LATITUDE'])"
   ]
  },
  {
   "cell_type": "code",
   "execution_count": 28,
   "metadata": {
    "collapsed": true
   },
   "outputs": [],
   "source": [
    "train_df = pd.concat([train_df,traintest_df['REFPOINT'][:len(train_df)]], axis=1)"
   ]
  },
  {
   "cell_type": "code",
   "execution_count": 29,
   "metadata": {},
   "outputs": [
    {
     "data": {
      "text/plain": [
       "19937"
      ]
     },
     "execution_count": 29,
     "metadata": {},
     "output_type": "execute_result"
    }
   ],
   "source": [
    "len_train = len(train_df) \n",
    "len_train"
   ]
  },
  {
   "cell_type": "code",
   "execution_count": 30,
   "metadata": {
    "collapsed": true
   },
   "outputs": [],
   "source": [
    "# for consistency in one-hot encoding\n",
    "blds_all = np.asarray(pd.get_dummies(pd.concat([train_df['BUILDINGID'], test_df['BUILDINGID']])))\n",
    "flrs_all = np.asarray(pd.get_dummies(pd.concat([train_df['FLOOR'], test_df['FLOOR']]))) # ditto\n",
    "\n",
    "blds = blds_all[:len_train]\n",
    "flrs = flrs_all[:len_train]"
   ]
  },
  {
   "cell_type": "code",
   "execution_count": 31,
   "metadata": {
    "collapsed": true
   },
   "outputs": [],
   "source": [
    "rfps = np.asarray(pd.get_dummies(train_df['REFPOINT']))\n",
    "train_labels = np.concatenate((blds, flrs, rfps), axis=1)\n",
    "OUTPUT_DIM = train_labels.shape[1]"
   ]
  },
  {
   "cell_type": "code",
   "execution_count": 32,
   "metadata": {},
   "outputs": [
    {
     "data": {
      "text/plain": [
       "110"
      ]
     },
     "execution_count": 32,
     "metadata": {},
     "output_type": "execute_result"
    }
   ],
   "source": [
    "len(rfps[0])"
   ]
  },
  {
   "cell_type": "code",
   "execution_count": 33,
   "metadata": {
    "collapsed": true
   },
   "outputs": [],
   "source": [
    "# split the training set into training and validation sets; \n",
    "\n",
    "# we will use the validation set at a testing set.\n",
    "train_val_split = np.full((len(train_AP_features)), True)\n",
    "train_val_split[int(len(train_AP_features)*training_ratio):] = False"
   ]
  },
  {
   "cell_type": "code",
   "execution_count": null,
   "metadata": {},
   "outputs": [],
   "source": []
  },
  {
   "cell_type": "code",
   "execution_count": 34,
   "metadata": {
    "collapsed": true
   },
   "outputs": [],
   "source": [
    "\n",
    "x_train = train_AP_features[train_val_split]\n",
    "y_train = train_labels[train_val_split]\n",
    "x_val = train_AP_features[~train_val_split]\n",
    "y_val = train_labels[~train_val_split]"
   ]
  },
  {
   "cell_type": "code",
   "execution_count": 35,
   "metadata": {
    "scrolled": true
   },
   "outputs": [
    {
     "name": "stdout",
     "output_type": "stream",
     "text": [
      "Epoch 1/20\n",
      "17943/17943 [==============================] - 11s 585us/step - loss: 0.5396\n",
      "Epoch 2/20\n",
      "17943/17943 [==============================] - 10s 570us/step - loss: 0.4750\n",
      "Epoch 3/20\n",
      "17943/17943 [==============================] - 10s 571us/step - loss: 0.4630\n",
      "Epoch 4/20\n",
      "17943/17943 [==============================] - 10s 576us/step - loss: 0.4545\n",
      "Epoch 5/20\n",
      "17943/17943 [==============================] - 11s 586us/step - loss: 0.4512\n",
      "Epoch 6/20\n",
      "17943/17943 [==============================] - 10s 576us/step - loss: 0.4492\n",
      "Epoch 7/20\n",
      "17943/17943 [==============================] - 10s 574us/step - loss: 0.4479\n",
      "Epoch 8/20\n",
      "17943/17943 [==============================] - 10s 567us/step - loss: 0.4397\n",
      "Epoch 9/20\n",
      "17943/17943 [==============================] - 10s 579us/step - loss: 0.4309\n",
      "Epoch 10/20\n",
      "17943/17943 [==============================] - 11s 586us/step - loss: 0.4280\n",
      "Epoch 11/20\n",
      "17943/17943 [==============================] - 10s 575us/step - loss: 0.4259\n",
      "Epoch 12/20\n",
      "17943/17943 [==============================] - 10s 571us/step - loss: 0.4235\n",
      "Epoch 13/20\n",
      "17943/17943 [==============================] - 10s 573us/step - loss: 0.4225\n",
      "Epoch 14/20\n",
      "17943/17943 [==============================] - 10s 571us/step - loss: 0.4223\n",
      "Epoch 15/20\n",
      "17943/17943 [==============================] - 10s 572us/step - loss: 0.4219\n",
      "Epoch 16/20\n",
      "17943/17943 [==============================] - 10s 583us/step - loss: 0.4216\n",
      "Epoch 17/20\n",
      "17943/17943 [==============================] - 10s 578us/step - loss: 0.4210\n",
      "Epoch 18/20\n",
      "17943/17943 [==============================] - 10s 574us/step - loss: 0.4201\n",
      "Epoch 19/20\n",
      "17943/17943 [==============================] - 10s 575us/step - loss: 0.4202\n",
      "Epoch 20/20\n",
      "17943/17943 [==============================] - 10s 571us/step - loss: 0.4196\n"
     ]
    },
    {
     "data": {
      "text/plain": [
       "<keras.callbacks.History at 0x163642b5780>"
      ]
     },
     "execution_count": 35,
     "metadata": {},
     "output_type": "execute_result"
    }
   ],
   "source": [
    "# create a model based on stacked autoencoder (SAE)\n",
    "model = Sequential()\n",
    "model.add(Dense(sae_hidden_layers[0], input_dim=INPUT_DIM, activation=SAE_ACTIVATION, use_bias=SAE_BIAS))\n",
    "for units in sae_hidden_layers[1:]:\n",
    "    model.add(Dense(units, activation=SAE_ACTIVATION, use_bias=SAE_BIAS))  \n",
    "model.add(Dense(INPUT_DIM, activation=SAE_ACTIVATION, use_bias=SAE_BIAS))\n",
    "model.compile(optimizer=SAE_OPTIMIZER, loss=SAE_LOSS)\n",
    "\n",
    "# train the model\n",
    "#model.fit(x_train, x_train, batch_size=batch_size, epochs=epochs, verbose=VERBOSE,shuffle=False)\n",
    "model.fit(x_train, x_train, batch_size=batch_size, epochs=epochs, verbose=VERBOSE)\n",
    "\n",
    "\n"
   ]
  },
  {
   "cell_type": "code",
   "execution_count": 36,
   "metadata": {
    "collapsed": true
   },
   "outputs": [],
   "source": [
    "# remove the decoder part\n",
    "num_to_remove = (len(sae_hidden_layers) + 1) // 2\n",
    "for i in range(num_to_remove):\n",
    "    model.pop()\n",
    "    \n",
    "### build and train a complete model with the trained SAE encoder and a new classifier\n",
    "model.add(Dropout(dropout))\n",
    "for units in classifier_hidden_layers:\n",
    "    model.add(Dense(units, activation=CLASSIFIER_ACTIVATION, use_bias=CLASSIFIER_BIAS))\n",
    "    model.add(Dropout(dropout))\n",
    "model.add(Dense(OUTPUT_DIM, activation='sigmoid', use_bias=CLASSIFIER_BIAS)) # 'sigmoid' for multi-label classification\n",
    "model.compile(optimizer=CLASSIFIER_OPTIMIZER, loss=CLASSIFIER_LOSS, metrics=['accuracy'])\n"
   ]
  },
  {
   "cell_type": "code",
   "execution_count": 37,
   "metadata": {},
   "outputs": [
    {
     "name": "stdout",
     "output_type": "stream",
     "text": [
      "Train on 17943 samples, validate on 1994 samples\n",
      "Epoch 1/20\n",
      "17943/17943 [==============================] - 6s 346us/step - loss: 0.0629 - acc: 0.9864 - val_loss: 0.0546 - val_acc: 0.9901\n",
      "Epoch 2/20\n",
      "17943/17943 [==============================] - 6s 327us/step - loss: 0.0441 - acc: 0.9905 - val_loss: 0.0535 - val_acc: 0.9895\n",
      "Epoch 3/20\n",
      "17943/17943 [==============================] - 6s 335us/step - loss: 0.0403 - acc: 0.9907 - val_loss: 0.0533 - val_acc: 0.9897\n",
      "Epoch 4/20\n",
      "17943/17943 [==============================] - 6s 325us/step - loss: 0.0378 - acc: 0.9908 - val_loss: 0.0504 - val_acc: 0.9900\n",
      "Epoch 5/20\n",
      "17943/17943 [==============================] - 6s 326us/step - loss: 0.0363 - acc: 0.9908 - val_loss: 0.0557 - val_acc: 0.9891\n",
      "Epoch 6/20\n",
      "17943/17943 [==============================] - 6s 328us/step - loss: 0.0354 - acc: 0.9908 - val_loss: 0.0547 - val_acc: 0.9892\n",
      "Epoch 7/20\n",
      "17943/17943 [==============================] - 6s 325us/step - loss: 0.0350 - acc: 0.9908 - val_loss: 0.0604 - val_acc: 0.9889\n",
      "Epoch 8/20\n",
      "17943/17943 [==============================] - 6s 328us/step - loss: 0.0344 - acc: 0.9908 - val_loss: 0.0533 - val_acc: 0.9893\n",
      "Epoch 9/20\n",
      "17943/17943 [==============================] - 6s 327us/step - loss: 0.0335 - acc: 0.9909 - val_loss: 0.0579 - val_acc: 0.9883\n",
      "Epoch 10/20\n",
      "17943/17943 [==============================] - 6s 328us/step - loss: 0.0333 - acc: 0.9909 - val_loss: 0.0561 - val_acc: 0.9892\n",
      "Epoch 11/20\n",
      "17943/17943 [==============================] - 6s 328us/step - loss: 0.0331 - acc: 0.9908 - val_loss: 0.0563 - val_acc: 0.9892\n",
      "Epoch 12/20\n",
      "17943/17943 [==============================] - 6s 329us/step - loss: 0.0326 - acc: 0.9909 - val_loss: 0.0593 - val_acc: 0.9890\n",
      "Epoch 13/20\n",
      "17943/17943 [==============================] - 6s 338us/step - loss: 0.0328 - acc: 0.9908 - val_loss: 0.0591 - val_acc: 0.9892\n",
      "Epoch 14/20\n",
      "17943/17943 [==============================] - 6s 326us/step - loss: 0.0324 - acc: 0.9908 - val_loss: 0.0640 - val_acc: 0.9887\n",
      "Epoch 15/20\n",
      "17943/17943 [==============================] - 6s 325us/step - loss: 0.0320 - acc: 0.9909 - val_loss: 0.0650 - val_acc: 0.9892\n",
      "Epoch 16/20\n",
      "17943/17943 [==============================] - 6s 326us/step - loss: 0.0322 - acc: 0.9909 - val_loss: 0.0611 - val_acc: 0.9890\n",
      "Epoch 17/20\n",
      "17943/17943 [==============================] - 6s 324us/step - loss: 0.0316 - acc: 0.9909 - val_loss: 0.0629 - val_acc: 0.9889\n",
      "Epoch 18/20\n",
      "17943/17943 [==============================] - 6s 325us/step - loss: 0.0320 - acc: 0.9908 - val_loss: 0.0562 - val_acc: 0.9886\n",
      "Epoch 19/20\n",
      "17943/17943 [==============================] - 6s 326us/step - loss: 0.0316 - acc: 0.9909 - val_loss: 0.0633 - val_acc: 0.9882\n",
      "Epoch 20/20\n",
      "17943/17943 [==============================] - 6s 328us/step - loss: 0.0319 - acc: 0.9908 - val_loss: 0.0666 - val_acc: 0.9885\n"
     ]
    },
    {
     "data": {
      "text/plain": [
       "<keras.callbacks.History at 0x163060108d0>"
      ]
     },
     "execution_count": 37,
     "metadata": {},
     "output_type": "execute_result"
    }
   ],
   "source": [
    "model.fit(x_train, y_train, validation_data=(x_val, y_val), batch_size=batch_size, epochs=epochs, verbose=VERBOSE)"
   ]
  },
  {
   "cell_type": "code",
   "execution_count": null,
   "metadata": {
    "collapsed": true
   },
   "outputs": [],
   "source": []
  },
  {
   "cell_type": "code",
   "execution_count": 38,
   "metadata": {
    "collapsed": true
   },
   "outputs": [],
   "source": [
    "# turn the given validation set into a testing set\n",
    "#test_AP_features = scale(np.asarray(test_df.iloc[:,0:520]).astype(float), axis=1) # convert integer to float and scale jointly (axis=1)\n",
    "#x_test_utm = np.asarray(test_df['LONGITUDE'])\n",
    "#y_test_utm = np.asarray(test_df['LATITUDE'])\n",
    "#blds = blds_all[len_train:]\n",
    "#flrs = flrs_all[len_train:]\n",
    "\n",
    "test_AP_features = x_val\n",
    "x_test_utm = train_df.loc[~train_val_split, 'LONGITUDE'].values\n",
    "y_test_utm = train_df.loc[~train_val_split, 'LATITUDE'].values\n",
    "blds = y_val[:,:3]\n",
    "flrs =y_val[:,3:8]\n",
    "rps = y_val[:, 8:118]"
   ]
  },
  {
   "cell_type": "code",
   "execution_count": 39,
   "metadata": {},
   "outputs": [
    {
     "data": {
      "text/plain": [
       "array([0, 0, 0, ..., 1, 1, 1], dtype=int64)"
      ]
     },
     "execution_count": 39,
     "metadata": {},
     "output_type": "execute_result"
    }
   ],
   "source": [
    "### evaluate the model\n",
    "# calculate the accuracy of building and floor estimation\n",
    "preds = model.predict(test_AP_features, batch_size=batch_size)\n",
    "n_preds = preds.shape[0]\n",
    "\n",
    "\n",
    "np.argmax(blds, axis=1)"
   ]
  },
  {
   "cell_type": "code",
   "execution_count": 40,
   "metadata": {},
   "outputs": [
    {
     "data": {
      "text/plain": [
       "0.99297893681043126"
      ]
     },
     "execution_count": 40,
     "metadata": {},
     "output_type": "execute_result"
    }
   ],
   "source": [
    "# blds_results = (np.equal(np.argmax(test_labels[:, :3], axis=1), np.argmax(preds[:, :3], axis=1))).astype(int)\n",
    "blds_results = (np.equal(np.argmax(blds, axis=1), np.argmax(preds[:, :3], axis=1))).astype(int)\n",
    "acc_bld = blds_results.mean()\n",
    "acc_bld"
   ]
  },
  {
   "cell_type": "code",
   "execution_count": 41,
   "metadata": {},
   "outputs": [
    {
     "data": {
      "text/plain": [
       "0.8771313941825476"
      ]
     },
     "execution_count": 41,
     "metadata": {},
     "output_type": "execute_result"
    }
   ],
   "source": [
    "flrs_results = (np.equal(np.argmax(flrs, axis=1), np.argmax(preds[:, 3:8], axis=1))).astype(int)\n",
    "acc_flr = flrs_results.mean()\n",
    "acc_bf = (blds_results*flrs_results).mean()\n",
    "acc_bf"
   ]
  },
  {
   "cell_type": "code",
   "execution_count": 42,
   "metadata": {},
   "outputs": [
    {
     "data": {
      "text/plain": [
       "array([[0, 0, 0, ..., 0, 0, 0],\n",
       "       [0, 0, 0, ..., 0, 0, 0],\n",
       "       [0, 0, 0, ..., 0, 0, 0],\n",
       "       ..., \n",
       "       [0, 0, 0, ..., 0, 0, 0],\n",
       "       [0, 0, 0, ..., 0, 0, 0],\n",
       "       [0, 0, 0, ..., 0, 0, 0]], dtype=uint8)"
      ]
     },
     "execution_count": 42,
     "metadata": {},
     "output_type": "execute_result"
    }
   ],
   "source": [
    "rfps"
   ]
  },
  {
   "cell_type": "code",
   "execution_count": 43,
   "metadata": {},
   "outputs": [
    {
     "data": {
      "text/plain": [
       "array([36, 36, 36, ...,  3,  0,  0], dtype=int64)"
      ]
     },
     "execution_count": 43,
     "metadata": {},
     "output_type": "execute_result"
    }
   ],
   "source": [
    "np.argmax(preds[:, 8:], axis=1)"
   ]
  },
  {
   "cell_type": "code",
   "execution_count": 44,
   "metadata": {},
   "outputs": [
    {
     "data": {
      "text/plain": [
       "0.20260782347041123"
      ]
     },
     "execution_count": 44,
     "metadata": {},
     "output_type": "execute_result"
    }
   ],
   "source": [
    "rps_results = (np.equal(np.argmax(rps, axis=1), np.argmax(preds[:, 8:], axis=1))).astype(int)\n",
    "acc_rps = rps_results.mean()\n",
    "acc_rps"
   ]
  },
  {
   "cell_type": "code",
   "execution_count": 45,
   "metadata": {},
   "outputs": [
    {
     "data": {
      "text/plain": [
       "0.20160481444332998"
      ]
     },
     "execution_count": 45,
     "metadata": {},
     "output_type": "execute_result"
    }
   ],
   "source": [
    "acc = (blds_results*flrs_results*rps_results).mean()\n",
    "acc"
   ]
  },
  {
   "cell_type": "code",
   "execution_count": 46,
   "metadata": {
    "collapsed": true
   },
   "outputs": [],
   "source": [
    "# calculate positioning error when building and floor are correctly estimated\n",
    "mask = np.logical_and(blds_results, flrs_results) # mask index array for correct location of building and floor"
   ]
  },
  {
   "cell_type": "code",
   "execution_count": 47,
   "metadata": {
    "collapsed": true
   },
   "outputs": [],
   "source": [
    "x_test_utm = x_test_utm[mask]\n",
    "y_test_utm = y_test_utm[mask]\n",
    "blds = blds[mask]\n",
    "flrs = flrs[mask]\n",
    "rfps = (preds[mask])[:, 8:118]"
   ]
  },
  {
   "cell_type": "code",
   "execution_count": 48,
   "metadata": {},
   "outputs": [
    {
     "data": {
      "text/plain": [
       "1749"
      ]
     },
     "execution_count": 48,
     "metadata": {},
     "output_type": "execute_result"
    }
   ],
   "source": [
    "# number of correct building and floor location\n",
    "n_success = len(blds)   \n",
    "n_success"
   ]
  },
  {
   "cell_type": "code",
   "execution_count": 49,
   "metadata": {
    "collapsed": true
   },
   "outputs": [],
   "source": [
    "n_loc_failure = 0\n",
    "sum_pos_err = 0.0\n",
    "sum_pos_err_weighted = 0.0\n",
    "idxs = np.argpartition(rfps, -N)[:, -N:]  # (unsorted) indexes of up to N nearest neighbors\n",
    "threshold = scaling*np.amax(rfps, axis=1)"
   ]
  },
  {
   "cell_type": "code",
   "execution_count": 50,
   "metadata": {},
   "outputs": [
    {
     "data": {
      "text/plain": [
       "(1749, 3)"
      ]
     },
     "execution_count": 50,
     "metadata": {},
     "output_type": "execute_result"
    }
   ],
   "source": [
    "blds.shape"
   ]
  },
  {
   "cell_type": "code",
   "execution_count": 51,
   "metadata": {
    "collapsed": true
   },
   "outputs": [],
   "source": [
    "for i in range(n_success):\n",
    "    xs = []\n",
    "    ys = []\n",
    "    ws = []\n",
    "    for j in idxs[i]:\n",
    "        rfp = np.zeros(110)\n",
    "        rfp[j] = 1\n",
    "        rows = np.where((train_labels == np.concatenate((blds[i], flrs[i], rfp))).all(axis=1)) # tuple of row indexes\n",
    "        if rows[0].size > 0:\n",
    "            if rfps[i][j] >= threshold[i]:\n",
    "                xs.append(train_df.loc[train_df.index[rows[0][0]], 'LONGITUDE'])\n",
    "                ys.append(train_df.loc[train_df.index[rows[0][0]], 'LATITUDE'])\n",
    "                ws.append(rfps[i][j])\n",
    "    if len(xs) > 0:\n",
    "        sum_pos_err += math.sqrt((np.mean(xs)-x_test_utm[i])**2 + (np.mean(ys)-y_test_utm[i])**2)\n",
    "        sum_pos_err_weighted += math.sqrt((np.average(xs, weights=ws)-x_test_utm[i])**2 + (np.average(ys, weights=ws)-y_test_utm[i])**2)\n",
    "    else:\n",
    "        n_loc_failure += 1\n",
    "        key = str(np.argmax(blds[i])) + '-' + str(np.argmax(flrs[i]))\n",
    "        pos_err = math.sqrt((x_avg[key]-x_test_utm[i])**2 + (y_avg[key]-y_test_utm[i])**2)\n",
    "        sum_pos_err += pos_err\n",
    "        sum_pos_err_weighted += pos_err"
   ]
  },
  {
   "cell_type": "code",
   "execution_count": 52,
   "metadata": {
    "collapsed": true
   },
   "outputs": [],
   "source": [
    " # mean_pos_err = sum_pos_err / (n_success - n_loc_failure)\n",
    "mean_pos_err = sum_pos_err / n_success\n",
    "# mean_pos_err_weighted = sum_pos_err_weighted / (n_success - n_loc_failure)\n",
    "mean_pos_err_weighted = sum_pos_err_weighted / n_success\n",
    "loc_failure = n_loc_failure / n_success # rate of location estimation failure given that building and floor are correctly located"
   ]
  },
  {
   "cell_type": "code",
   "execution_count": 53,
   "metadata": {},
   "outputs": [
    {
     "data": {
      "text/plain": [
       "9.203217477211561"
      ]
     },
     "execution_count": 53,
     "metadata": {},
     "output_type": "execute_result"
    }
   ],
   "source": [
    "mean_pos_err_weighted"
   ]
  },
  {
   "cell_type": "code",
   "execution_count": 54,
   "metadata": {
    "collapsed": true
   },
   "outputs": [],
   "source": [
    "### print out final results\n",
    "now = datetime.datetime.now\n",
    "path_out = \"../my_results/\"\n",
    "#path_out += \"_\" + now.strftime(\"%Y%m%d-%H%M%S\") + \".txt\"\n",
    "path_out += \"[SAE\" + str(sae_hidden_layers) + \"] \"\n",
    "path_out += \"[Class\" +str(classifier_hidden_layers) +  \"] \"\n",
    "path_out += \"[DropOut\" + str(dropout)+\"] \"\n",
    "path_out += \"[PE\" + str(round(mean_pos_err,2))+\"] \"\n",
    "path_out += \"[PEW\" + str(round(mean_pos_err_weighted,2))+\"] \"\n",
    "path_out += \".txt\"\n",
    "f = open(path_out, 'w')\n",
    "f.write(\"#+STARTUP: showall\\n\")  # unfold everything when opening\n",
    "f.write(\"* System parameters\\n\")\n",
    "f.write(\"  - Numpy random number seed: %d\\n\" % random_seed)\n",
    "f.write(\"  - Ratio of training data to overall data: %.2f\\n\" % training_ratio)\n",
    "f.write(\"  - Number of epochs: %d\\n\" % epochs)\n",
    "f.write(\"  - Batch size: %d\\n\" % batch_size)\n",
    "f.write(\"  - Number of neighbours: %d\\n\" % N)\n",
    "f.write(\"  - Scaling factor for threshold: %.2f\\n\" % scaling)\n",
    "f.write(\"  - SAE hidden layers: %d\" % sae_hidden_layers[0])\n",
    "for units in sae_hidden_layers[1:]:\n",
    "    f.write(\"-%d\" % units)\n",
    "f.write(\"\\n\")\n",
    "f.write(\"  - SAE activation: %s\\n\" % SAE_ACTIVATION)\n",
    "f.write(\"  - SAE bias: %s\\n\" % SAE_BIAS)\n",
    "f.write(\"  - SAE optimizer: %s\\n\" % SAE_OPTIMIZER)\n",
    "f.write(\"  - SAE loss: %s\\n\" % SAE_LOSS)\n",
    "f.write(\"  - Classifier hidden layers: \")\n",
    "if classifier_hidden_layers == '':\n",
    "    f.write(\"N/A\\n\")\n",
    "else:\n",
    "    f.write(\"%d\" % classifier_hidden_layers[0])\n",
    "    for units in classifier_hidden_layers[1:]:\n",
    "        f.write(\"-%d\" % units)\n",
    "    f.write(\"\\n\")\n",
    "f.write(\"  - Classifier hidden layer activation: %s\\n\" % CLASSIFIER_ACTIVATION)\n",
    "f.write(\"  - Classifier bias: %s\\n\" % CLASSIFIER_BIAS)\n",
    "f.write(\"  - Classifier optimizer: %s\\n\" % CLASSIFIER_OPTIMIZER)\n",
    "f.write(\"  - Classifier loss: %s\\n\" % CLASSIFIER_LOSS)\n",
    "f.write(\"  - Classifier dropout rate: %.2f\\n\" % dropout)\n",
    "# f.write(\"  - Classifier class weight for buildings: %.2f\\n\" % building_weight)\n",
    "# f.write(\"  - Classifier class weight for floors: %.2f\\n\" % floor_weight)\n",
    "f.write(\"* Performance\\n\")\n",
    "f.write(\"  - Accuracy (building): %e\\n\" % acc_bld)\n",
    "f.write(\"  - Accuracy (floor): %e\\n\" % acc_flr)\n",
    "f.write(\"  - Accuracy (building-floor): %e\\n\" % acc_bf)\n",
    "f.write(\"  - Location estimation failure rate (given the correct building/floor): %e\\n\" % loc_failure)\n",
    "f.write(\"  - Positioning error (meter): %e\\n\" % mean_pos_err)\n",
    "f.write(\"  - Positioning error (weighted; meter): %e\\n\" % mean_pos_err_weighted)\n",
    "f.close()\n"
   ]
  },
  {
   "cell_type": "code",
   "execution_count": 55,
   "metadata": {},
   "outputs": [
    {
     "data": {
      "text/plain": [
       "9.203217477211561"
      ]
     },
     "execution_count": 55,
     "metadata": {},
     "output_type": "execute_result"
    }
   ],
   "source": [
    "mean_pos_err_weighted"
   ]
  },
  {
   "cell_type": "code",
   "execution_count": 56,
   "metadata": {
    "collapsed": true
   },
   "outputs": [],
   "source": [
    "#9.277102567499114\n",
    "#9.826676547695087\n",
    "#9.836135151319597\n",
    "#9.875814741893349"
   ]
  },
  {
   "cell_type": "code",
   "execution_count": 57,
   "metadata": {
    "collapsed": true
   },
   "outputs": [],
   "source": [
    "#9.516800349169966\n",
    "#9.516800349169966\n",
    "#9.516800349169966\n",
    "#9.516800349169966\n",
    "#9.516800349169966"
   ]
  },
  {
   "cell_type": "code",
   "execution_count": 58,
   "metadata": {
    "collapsed": true
   },
   "outputs": [],
   "source": [
    "#9.402408856112912\n",
    "#9.402408856112912\n",
    "#9.402408856112912\n",
    "#8.714254619707846\n",
    "#8.714254619707846"
   ]
  }
 ],
 "metadata": {
  "kernelspec": {
   "display_name": "Python 3",
   "language": "python",
   "name": "python3"
  },
  "language_info": {
   "codemirror_mode": {
    "name": "ipython",
    "version": 3
   },
   "file_extension": ".py",
   "mimetype": "text/x-python",
   "name": "python",
   "nbconvert_exporter": "python",
   "pygments_lexer": "ipython3",
   "version": "3.6.3"
  }
 },
 "nbformat": 4,
 "nbformat_minor": 2
}
