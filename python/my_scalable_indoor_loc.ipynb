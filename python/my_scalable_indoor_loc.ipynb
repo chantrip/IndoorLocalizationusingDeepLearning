{
 "cells": [
  {
   "cell_type": "code",
   "execution_count": 60,
   "metadata": {},
   "outputs": [],
   "source": [
    "import argparse\n",
    "import datetime\n",
    "import os\n",
    "import math\n",
    "import numpy as np\n",
    "import pandas as pd\n",
    "import sys\n",
    "from keras.utils import plot_model\n",
    "from sklearn.preprocessing import scale\n",
    "from timeit import default_timer as timer\n",
    "from IPython.display import SVG\n",
    "from keras.utils.vis_utils import model_to_dot\n"
   ]
  },
  {
   "cell_type": "code",
   "execution_count": 61,
   "metadata": {},
   "outputs": [],
   "source": [
    "### set paramter values\n",
    "#------------------------------------------------------------------------\n",
    "# general\n",
    "#------------------------------------------------------------------------\n",
    "training_ratio = 0.9            # ratio of training data to overall data\n",
    "input_dim = 520\n",
    "output_dim = 13                 # number of labels\n",
    "verbose = 1                     # 0 for turning off logging\n",
    "seed = 7                        # random number seed for reproducibility\n",
    "### global constant variables\n",
    "#------------------------------------------------------------------------\n",
    "# general\n",
    "#------------------------------------------------------------------------\n",
    "INPUT_DIM = 520                 #  number of APs\n",
    "VERBOSE = 1                     # 0 for turning off logging\n",
    "#------------------------------------------------------------------------\n",
    "# stacked auto encoder (sae)\n",
    "#------------------------------------------------------------------------\n",
    "# SAE_ACTIVATION = 'tanh'\n",
    "SAE_ACTIVATION = 'relu'\n",
    "SAE_BIAS = False\n",
    "SAE_OPTIMIZER = 'adam'\n",
    "SAE_LOSS = 'mse'\n",
    "#------------------------------------------------------------------------\n",
    "# classifier\n",
    "#------------------------------------------------------------------------\n",
    "CLASSIFIER_ACTIVATION = 'relu'\n",
    "CLASSIFIER_BIAS = False\n",
    "CLASSIFIER_OPTIMIZER = 'adam'\n",
    "CLASSIFIER_LOSS = 'binary_crossentropy'\n",
    "#------------------------------------------------------------------------\n",
    "# input files\n",
    "#------------------------------------------------------------------------\n",
    "path_train = '../data/UJIIndoorLoc/trainingData2.csv'           # '-110' for the lack of AP.\n",
    "path_validation = '../data/UJIIndoorLoc/validationData2.csv'    # ditto\n",
    "#------------------------------------------------------------------------\n",
    "# output files\n",
    "#------------------------------------------------------------------------\n",
    "path_base = '../my_results/'\n",
    "path_out =  path_base + ''\n",
    "#path_sae_model = path_base + '_sae_model.hdf5'\n",
    "\n",
    "batch_size = 10\n",
    "epochs = 20\n",
    "#sae_hidden_layers = [256,128,64,128,256]\n",
    "sae_hidden_layers = [64, 64, 256, 512]\n",
    "#classifier_hidden_layers = [128,128]\n",
    "classifier_hidden_layers =  [64,512,128]\n",
    "dropout = 0.2\n",
    "N = 8\n",
    "scaling= 0.2\n",
    "\n",
    "random_seed = 0"
   ]
  },
  {
   "cell_type": "code",
   "execution_count": 62,
   "metadata": {},
   "outputs": [],
   "source": [
    "### initialize random seed generator of numpy\n",
    "np.random.seed(random_seed)"
   ]
  },
  {
   "cell_type": "code",
   "execution_count": null,
   "metadata": {},
   "outputs": [],
   "source": []
  },
  {
   "cell_type": "code",
   "execution_count": 63,
   "metadata": {},
   "outputs": [],
   "source": [
    "import tensorflow as tf\n",
    "tf.set_random_seed(random_seed)  # initialize random seed generator of tensorflow\n",
    "from keras.layers import Dense, Dropout\n",
    "from keras.models import Sequential, load_model"
   ]
  },
  {
   "cell_type": "code",
   "execution_count": 64,
   "metadata": {},
   "outputs": [],
   "source": [
    "train_df = pd.read_csv(path_train, header=0) # pass header=0 to be able to replace existing names\n",
    "test_df = pd.read_csv(path_validation, header=0)"
   ]
  },
  {
   "cell_type": "code",
   "execution_count": 65,
   "metadata": {},
   "outputs": [],
   "source": [
    "train_AP_features = scale(np.asarray(train_df.iloc[:,0:520]).astype(float), axis=1)"
   ]
  },
  {
   "cell_type": "code",
   "execution_count": 66,
   "metadata": {},
   "outputs": [
    {
     "data": {
      "text/plain": [
       "array([[-0.17125017, -0.17125017, -0.17125017, ..., -0.17125017,\n",
       "        -0.17125017, -0.17125017],\n",
       "       [-0.16059846, -0.16059846, -0.16059846, ..., -0.16059846,\n",
       "        -0.16059846, -0.16059846],\n",
       "       [-0.15523113, -0.15523113, -0.15523113, ..., -0.15523113,\n",
       "        -0.15523113, -0.15523113],\n",
       "       ...,\n",
       "       [-0.1077911 , -0.1077911 , -0.1077911 , ..., -0.1077911 ,\n",
       "        -0.1077911 , -0.1077911 ],\n",
       "       [-0.17141826, -0.17141826, -0.17141826, ..., -0.17141826,\n",
       "        -0.17141826, -0.17141826],\n",
       "       [-0.17331788, -0.17331788, -0.17331788, ..., -0.17331788,\n",
       "        -0.17331788, -0.17331788]])"
      ]
     },
     "execution_count": 66,
     "metadata": {},
     "output_type": "execute_result"
    }
   ],
   "source": [
    "train_AP_features"
   ]
  },
  {
   "cell_type": "code",
   "execution_count": 67,
   "metadata": {},
   "outputs": [],
   "source": [
    " # add a new column\n",
    "train_df['REFPOINT'] = train_df.apply(lambda row: str(int(row['SPACEID'])) + str(int(row['RELATIVEPOSITION'])), axis=1)"
   ]
  },
  {
   "cell_type": "code",
   "execution_count": 68,
   "metadata": {},
   "outputs": [],
   "source": [
    "blds = np.unique(train_df[['BUILDINGID']])\n",
    "flrs = np.unique(train_df[['FLOOR']])"
   ]
  },
  {
   "cell_type": "code",
   "execution_count": 69,
   "metadata": {},
   "outputs": [],
   "source": [
    "x_avg = {}\n",
    "y_avg = {}\n",
    "for bld in blds:\n",
    "    for flr in flrs:\n",
    "        # map reference points to sequential IDs per building-floor before building labels\n",
    "        cond = (train_df['BUILDINGID']==bld) & (train_df['FLOOR']==flr)\n",
    "        \n",
    "        _, idx = np.unique(train_df.loc[cond, 'REFPOINT'], return_inverse=True) # refer to numpy.unique manual\n",
    "        train_df.loc[cond, 'REFPOINT'] = idx\n",
    "            \n",
    "        # calculate the average coordinates of each building/floor\n",
    "        x_avg[str(bld) + '-' + str(flr)] = np.mean(train_df.loc[cond, 'LONGITUDE'])\n",
    "        y_avg[str(bld) + '-' + str(flr)] = np.mean(train_df.loc[cond, 'LATITUDE'])"
   ]
  },
  {
   "cell_type": "code",
   "execution_count": 70,
   "metadata": {},
   "outputs": [
    {
     "data": {
      "text/plain": [
       "19937"
      ]
     },
     "execution_count": 70,
     "metadata": {},
     "output_type": "execute_result"
    }
   ],
   "source": [
    "len_train = len(train_df) \n",
    "len_train"
   ]
  },
  {
   "cell_type": "code",
   "execution_count": 71,
   "metadata": {},
   "outputs": [],
   "source": [
    "# for consistency in one-hot encoding\n",
    "blds_all = np.asarray(pd.get_dummies(pd.concat([train_df['BUILDINGID'], test_df['BUILDINGID']])))\n",
    "flrs_all = np.asarray(pd.get_dummies(pd.concat([train_df['FLOOR'], test_df['FLOOR']]))) # ditto\n",
    "\n",
    "blds = blds_all[:len_train]\n",
    "flrs = flrs_all[:len_train]"
   ]
  },
  {
   "cell_type": "code",
   "execution_count": 72,
   "metadata": {},
   "outputs": [],
   "source": [
    "rfps = np.asarray(pd.get_dummies(train_df['REFPOINT']))\n",
    "train_labels = np.concatenate((blds, flrs, rfps), axis=1)\n",
    "OUTPUT_DIM = train_labels.shape[1]"
   ]
  },
  {
   "cell_type": "code",
   "execution_count": 73,
   "metadata": {},
   "outputs": [],
   "source": [
    "# split the training set into training and validation sets; we will use the\n",
    "#validation set at a testing set.\n",
    "train_val_split = np.random.rand(len(train_AP_features)) < training_ratio # mask index array"
   ]
  },
  {
   "cell_type": "code",
   "execution_count": null,
   "metadata": {},
   "outputs": [],
   "source": [
    "x_train = train_AP_features[train_val_split]\n",
    "y_train = train_labels[train_val_split]\n",
    "x_val = train_AP_features[~train_val_split]\n",
    "y_val = train_labels[~train_val_split]"
   ]
  },
  {
   "cell_type": "code",
   "execution_count": null,
   "metadata": {
    "scrolled": true
   },
   "outputs": [
    {
     "name": "stdout",
     "output_type": "stream",
     "text": [
      "Epoch 1/20\n",
      "17928/17928 [==============================] - 6s 310us/step - loss: 0.5860\n",
      "Epoch 2/20\n",
      "17928/17928 [==============================] - 5s 277us/step - loss: 0.5365\n",
      "Epoch 3/20\n",
      "11050/17928 [=================>............] - ETA: 1s - loss: 0.5271"
     ]
    }
   ],
   "source": [
    "# create a model based on stacked autoencoder (SAE)\n",
    "model = Sequential()\n",
    "model.add(Dense(sae_hidden_layers[0], input_dim=INPUT_DIM, activation=SAE_ACTIVATION, use_bias=SAE_BIAS))\n",
    "for units in sae_hidden_layers[1:]:\n",
    "    model.add(Dense(units, activation=SAE_ACTIVATION, use_bias=SAE_BIAS))  \n",
    "model.add(Dense(INPUT_DIM, activation=SAE_ACTIVATION, use_bias=SAE_BIAS))\n",
    "model.compile(optimizer=SAE_OPTIMIZER, loss=SAE_LOSS)\n",
    "\n",
    "# train the model\n",
    "model.fit(x_train, x_train, batch_size=batch_size, epochs=epochs, verbose=VERBOSE)\n",
    "\n",
    "\n"
   ]
  },
  {
   "cell_type": "code",
   "execution_count": null,
   "metadata": {},
   "outputs": [],
   "source": [
    "#plot_model(model, to_file='model.png',show_shapes=True)\n",
    "SVG(model_to_dot(model).create(prog='dot', format='svg'))"
   ]
  },
  {
   "cell_type": "code",
   "execution_count": null,
   "metadata": {},
   "outputs": [],
   "source": [
    "# remove the decoder part\n",
    "num_to_remove = (len(sae_hidden_layers) + 1) // 2\n",
    "for i in range(num_to_remove):\n",
    "    model.pop()\n",
    "    \n",
    "### build and train a complete model with the trained SAE encoder and a new classifier\n",
    "model.add(Dropout(dropout))\n",
    "for units in classifier_hidden_layers:\n",
    "    model.add(Dense(units, activation=CLASSIFIER_ACTIVATION, use_bias=CLASSIFIER_BIAS))\n",
    "    model.add(Dropout(dropout))\n",
    "model.add(Dense(OUTPUT_DIM, activation='sigmoid', use_bias=CLASSIFIER_BIAS)) # 'sigmoid' for multi-label classification\n",
    "model.compile(optimizer=CLASSIFIER_OPTIMIZER, loss=CLASSIFIER_LOSS, metrics=['accuracy'])\n"
   ]
  },
  {
   "cell_type": "code",
   "execution_count": null,
   "metadata": {},
   "outputs": [],
   "source": [
    "model.fit(x_train, y_train, validation_data=(x_val, y_val), batch_size=batch_size, epochs=epochs, verbose=VERBOSE)"
   ]
  },
  {
   "cell_type": "code",
   "execution_count": null,
   "metadata": {},
   "outputs": [],
   "source": [
    "# turn the given validation set into a testing set\n",
    "test_AP_features = scale(np.asarray(test_df.iloc[:,0:520]).astype(float), axis=1) # convert integer to float and scale jointly (axis=1)\n",
    "x_test_utm = np.asarray(test_df['LONGITUDE'])\n",
    "y_test_utm = np.asarray(test_df['LATITUDE'])\n",
    "blds = blds_all[len_train:]\n",
    "flrs = flrs_all[len_train:]\n"
   ]
  },
  {
   "cell_type": "code",
   "execution_count": null,
   "metadata": {},
   "outputs": [],
   "source": [
    "### evaluate the model\n",
    "# calculate the accuracy of building and floor estimation\n",
    "preds = model.predict(test_AP_features, batch_size=batch_size)\n",
    "n_preds = preds.shape[0]"
   ]
  },
  {
   "cell_type": "code",
   "execution_count": null,
   "metadata": {},
   "outputs": [],
   "source": [
    "# blds_results = (np.equal(np.argmax(test_labels[:, :3], axis=1), np.argmax(preds[:, :3], axis=1))).astype(int)\n",
    "blds_results = (np.equal(np.argmax(blds, axis=1), np.argmax(preds[:, :3], axis=1))).astype(int)\n",
    "acc_bld = blds_results.mean()"
   ]
  },
  {
   "cell_type": "code",
   "execution_count": null,
   "metadata": {},
   "outputs": [],
   "source": [
    "flrs_results = (np.equal(np.argmax(flrs, axis=1), np.argmax(preds[:, 3:8], axis=1))).astype(int)\n",
    "acc_flr = flrs_results.mean()\n",
    "acc_bf = (blds_results*flrs_results).mean()"
   ]
  },
  {
   "cell_type": "code",
   "execution_count": null,
   "metadata": {},
   "outputs": [],
   "source": [
    "acc_bf"
   ]
  },
  {
   "cell_type": "code",
   "execution_count": null,
   "metadata": {},
   "outputs": [],
   "source": [
    "# calculate positioning error when building and floor are correctly estimated\n",
    "mask = np.logical_and(blds_results, flrs_results) # mask index array for correct location of building and floor"
   ]
  },
  {
   "cell_type": "code",
   "execution_count": null,
   "metadata": {},
   "outputs": [],
   "source": [
    "x_test_utm = x_test_utm[mask]\n",
    "y_test_utm = y_test_utm[mask]\n",
    "blds = blds[mask]\n",
    "flrs = flrs[mask]\n",
    "rfps = (preds[mask])[:, 8:118]"
   ]
  },
  {
   "cell_type": "code",
   "execution_count": null,
   "metadata": {},
   "outputs": [],
   "source": [
    "preds"
   ]
  },
  {
   "cell_type": "code",
   "execution_count": null,
   "metadata": {},
   "outputs": [],
   "source": [
    "# number of correct building and floor location\n",
    "n_success = len(blds)   \n",
    "n_success"
   ]
  },
  {
   "cell_type": "code",
   "execution_count": null,
   "metadata": {},
   "outputs": [],
   "source": [
    "n_loc_failure = 0\n",
    "sum_pos_err = 0.0\n",
    "sum_pos_err_weighted = 0.0\n",
    "idxs = np.argpartition(rfps, -N)[:, -N:]  # (unsorted) indexes of up to N nearest neighbors\n",
    "threshold = scaling*np.amax(rfps, axis=1)"
   ]
  },
  {
   "cell_type": "code",
   "execution_count": null,
   "metadata": {},
   "outputs": [],
   "source": [
    "idxs"
   ]
  },
  {
   "cell_type": "code",
   "execution_count": null,
   "metadata": {},
   "outputs": [],
   "source": [
    "np.argpartition(rfps, -N)"
   ]
  },
  {
   "cell_type": "code",
   "execution_count": null,
   "metadata": {},
   "outputs": [],
   "source": [
    "np.argpartition(rfps, -N)[:, -N:]"
   ]
  },
  {
   "cell_type": "code",
   "execution_count": null,
   "metadata": {},
   "outputs": [],
   "source": [
    "rfps.shape"
   ]
  },
  {
   "cell_type": "code",
   "execution_count": null,
   "metadata": {},
   "outputs": [],
   "source": [
    "for i in range(n_success):\n",
    "    xs = []\n",
    "    ys = []\n",
    "    ws = []\n",
    "    for j in idxs[i]:\n",
    "        rfp = np.zeros(110)\n",
    "        rfp[j] = 1\n",
    "        rows = np.where((train_labels == np.concatenate((blds[i], flrs[i], rfp))).all(axis=1)) # tuple of row indexes\n",
    "        if rows[0].size > 0:\n",
    "            if rfps[i][j] >= threshold[i]:\n",
    "                xs.append(train_df.loc[train_df.index[rows[0][0]], 'LONGITUDE'])\n",
    "                ys.append(train_df.loc[train_df.index[rows[0][0]], 'LATITUDE'])\n",
    "                ws.append(rfps[i][j])\n",
    "    if len(xs) > 0:\n",
    "        sum_pos_err += math.sqrt((np.mean(xs)-x_test_utm[i])**2 + (np.mean(ys)-y_test_utm[i])**2)\n",
    "        sum_pos_err_weighted += math.sqrt((np.average(xs, weights=ws)-x_test_utm[i])**2 + (np.average(ys, weights=ws)-y_test_utm[i])**2)\n",
    "    else:\n",
    "        n_loc_failure += 1\n",
    "        key = str(np.argmax(blds[i])) + '-' + str(np.argmax(flrs[i]))\n",
    "        pos_err = math.sqrt((x_avg[key]-x_test_utm[i])**2 + (y_avg[key]-y_test_utm[i])**2)\n",
    "        sum_pos_err += pos_err\n",
    "        sum_pos_err_weighted += pos_err"
   ]
  },
  {
   "cell_type": "code",
   "execution_count": null,
   "metadata": {},
   "outputs": [],
   "source": [
    " # mean_pos_err = sum_pos_err / (n_success - n_loc_failure)\n",
    "mean_pos_err = sum_pos_err / n_success\n",
    "# mean_pos_err_weighted = sum_pos_err_weighted / (n_success - n_loc_failure)\n",
    "mean_pos_err_weighted = sum_pos_err_weighted / n_success\n",
    "loc_failure = n_loc_failure / n_success # rate of location estimation failure given that building and floor are correctly located"
   ]
  },
  {
   "cell_type": "code",
   "execution_count": null,
   "metadata": {},
   "outputs": [],
   "source": [
    "### print out final results\n",
    "now = datetime.datetime.now\n",
    "path_out = \"../my_results/\"\n",
    "#path_out += \"_\" + now.strftime(\"%Y%m%d-%H%M%S\") + \".txt\"\n",
    "path_out += \"[SAE\" + str(sae_hidden_layers) + \"] \"\n",
    "path_out += \"[Class\" +str(classifier_hidden_layers) +  \"] \"\n",
    "path_out += \"[DropOut\" + str(dropout)+\"] \"\n",
    "path_out += \"[PE\" + str(round(mean_pos_err,2))+\"] \"\n",
    "path_out += \"[PEW\" + str(round(mean_pos_err_weighted,2))+\"] \"\n",
    "path_out += \".txt\"\n",
    "f = open(path_out, 'w')\n",
    "f.write(\"#+STARTUP: showall\\n\")  # unfold everything when opening\n",
    "f.write(\"* System parameters\\n\")\n",
    "f.write(\"  - Numpy random number seed: %d\\n\" % random_seed)\n",
    "f.write(\"  - Ratio of training data to overall data: %.2f\\n\" % training_ratio)\n",
    "f.write(\"  - Number of epochs: %d\\n\" % epochs)\n",
    "f.write(\"  - Batch size: %d\\n\" % batch_size)\n",
    "f.write(\"  - Number of neighbours: %d\\n\" % N)\n",
    "f.write(\"  - Scaling factor for threshold: %.2f\\n\" % scaling)\n",
    "f.write(\"  - SAE hidden layers: %d\" % sae_hidden_layers[0])\n",
    "for units in sae_hidden_layers[1:]:\n",
    "    f.write(\"-%d\" % units)\n",
    "f.write(\"\\n\")\n",
    "f.write(\"  - SAE activation: %s\\n\" % SAE_ACTIVATION)\n",
    "f.write(\"  - SAE bias: %s\\n\" % SAE_BIAS)\n",
    "f.write(\"  - SAE optimizer: %s\\n\" % SAE_OPTIMIZER)\n",
    "f.write(\"  - SAE loss: %s\\n\" % SAE_LOSS)\n",
    "f.write(\"  - Classifier hidden layers: \")\n",
    "if classifier_hidden_layers == '':\n",
    "    f.write(\"N/A\\n\")\n",
    "else:\n",
    "    f.write(\"%d\" % classifier_hidden_layers[0])\n",
    "    for units in classifier_hidden_layers[1:]:\n",
    "        f.write(\"-%d\" % units)\n",
    "    f.write(\"\\n\")\n",
    "    f.write(\"  - Classifier hidden layer activation: %s\\n\" % CLASSIFIER_ACTIVATION)\n",
    "f.write(\"  - Classifier bias: %s\\n\" % CLASSIFIER_BIAS)\n",
    "f.write(\"  - Classifier optimizer: %s\\n\" % CLASSIFIER_OPTIMIZER)\n",
    "f.write(\"  - Classifier loss: %s\\n\" % CLASSIFIER_LOSS)\n",
    "f.write(\"  - Classifier dropout rate: %.2f\\n\" % dropout)\n",
    "# f.write(\"  - Classifier class weight for buildings: %.2f\\n\" % building_weight)\n",
    "# f.write(\"  - Classifier class weight for floors: %.2f\\n\" % floor_weight)\n",
    "f.write(\"* Performance\\n\")\n",
    "f.write(\"  - Accuracy (building): %e\\n\" % acc_bld)\n",
    "f.write(\"  - Accuracy (floor): %e\\n\" % acc_flr)\n",
    "f.write(\"  - Accuracy (building-floor): %e\\n\" % acc_bf)\n",
    "f.write(\"  - Location estimation failure rate (given the correct building/floor): %e\\n\" % loc_failure)\n",
    "f.write(\"  - Positioning error (meter): %e\\n\" % mean_pos_err)\n",
    "f.write(\"  - Positioning error (weighted; meter): %e\\n\" % mean_pos_err_weighted)\n",
    "f.close()\n"
   ]
  },
  {
   "cell_type": "code",
   "execution_count": null,
   "metadata": {},
   "outputs": [],
   "source": [
    "mean_pos_err_weighted"
   ]
  },
  {
   "cell_type": "code",
   "execution_count": null,
   "metadata": {},
   "outputs": [],
   "source": []
  },
  {
   "cell_type": "code",
   "execution_count": null,
   "metadata": {},
   "outputs": [],
   "source": []
  },
  {
   "cell_type": "code",
   "execution_count": null,
   "metadata": {},
   "outputs": [],
   "source": []
  }
 ],
 "metadata": {
  "kernelspec": {
   "display_name": "Python 3",
   "language": "python",
   "name": "python3"
  },
  "language_info": {
   "codemirror_mode": {
    "name": "ipython",
    "version": 3
   },
   "file_extension": ".py",
   "mimetype": "text/x-python",
   "name": "python",
   "nbconvert_exporter": "python",
   "pygments_lexer": "ipython3",
   "version": "3.6.4"
  }
 },
 "nbformat": 4,
 "nbformat_minor": 2
}
