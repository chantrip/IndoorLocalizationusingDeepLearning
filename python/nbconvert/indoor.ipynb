{
 "cells": [
  {
   "cell_type": "code",
   "execution_count": 247,
   "metadata": {
    "collapsed": true
   },
   "outputs": [],
   "source": [
    "import argparse\n",
    "import datetime\n",
    "import os\n",
    "import math\n",
    "import numpy as np\n",
    "import pandas as pd\n",
    "import sys\n",
    "from keras.utils import plot_model\n",
    "from sklearn.preprocessing import scale\n",
    "from timeit import default_timer as timer\n",
    "from IPython.display import SVG\n",
    "from keras.utils.vis_utils import model_to_dot\n",
    "\n"
   ]
  },
  {
   "cell_type": "code",
   "execution_count": 248,
   "metadata": {
    "collapsed": true
   },
   "outputs": [],
   "source": [
    "### set paramter values\n",
    "#------------------------------------------------------------------------\n",
    "# general\n",
    "#------------------------------------------------------------------------\n",
    "training_ratio = 0.9            # ratio of training data to overall data\n",
    "input_dim = 520\n",
    "output_dim = 13                 # number of labels\n",
    "verbose = 1                     # 0 for turning off logging\n",
    "seed = 7                        # random number seed for reproducibility\n",
    "### global constant variables\n",
    "#------------------------------------------------------------------------\n",
    "# general\n",
    "#------------------------------------------------------------------------\n",
    "INPUT_DIM = 520                 #  number of APs\n",
    "VERBOSE = 1                     # 0 for turning off logging\n",
    "#------------------------------------------------------------------------\n",
    "# stacked auto encoder (sae)\n",
    "#------------------------------------------------------------------------\n",
    "# SAE_ACTIVATION = 'tanh'\n",
    "SAE_ACTIVATION = 'relu'\n",
    "SAE_BIAS = False\n",
    "SAE_OPTIMIZER = 'adam'\n",
    "SAE_LOSS = 'mse'\n",
    "#------------------------------------------------------------------------\n",
    "# classifier\n",
    "#------------------------------------------------------------------------\n",
    "CLASSIFIER_ACTIVATION = 'relu'\n",
    "CLASSIFIER_BIAS = False\n",
    "CLASSIFIER_OPTIMIZER = 'adam'\n",
    "CLASSIFIER_LOSS = 'binary_crossentropy'\n",
    "#------------------------------------------------------------------------\n",
    "# input files\n",
    "#------------------------------------------------------------------------\n",
    "path_train = '../../data/UJIIndoorLoc/trainingData2.csv'           # '-110' for the lack of AP.\n",
    "path_validation = '../../data/UJIIndoorLoc/validationData2.csv'    # ditto\n",
    "#------------------------------------------------------------------------\n",
    "# output files\n",
    "#------------------------------------------------------------------------\n",
    "\n",
    "#path_sae_model = path_base + '_sae_model.hdf5'\n",
    "\n",
    "batch_size = 10\n",
    "epochs = 20\n",
    "#sae_hidden_layers = [256,128,64,128,256]\n",
    "sae_hidden_layers = [64, 64, 256, 512]\n",
    "#classifier_hidden_layers = [128,128]\n",
    "classifier_hidden_layers =  [64,512,128]\n",
    "dropout = 0.2\n",
    "N = 8\n",
    "scaling= 0.2\n",
    "\n",
    "random_seed = 0"
   ]
  },
  {
   "cell_type": "code",
   "execution_count": 249,
   "metadata": {
    "collapsed": true
   },
   "outputs": [],
   "source": [
    "### initialize random seed generator of numpy\n",
    "#import os\n",
    "#os.environ['PYTHONHASHSEED'] = '0'\n",
    "\n",
    "np.random.seed(random_seed)"
   ]
  },
  {
   "cell_type": "code",
   "execution_count": null,
   "metadata": {
    "collapsed": true
   },
   "outputs": [],
   "source": []
  },
  {
   "cell_type": "code",
   "execution_count": 250,
   "metadata": {
    "collapsed": true
   },
   "outputs": [],
   "source": [
    "import tensorflow as tf\n",
    "\n",
    "session_conf = tf.ConfigProto(intra_op_parallelism_threads=1, inter_op_parallelism_threads=1,device_count = {'GPU': 0})\n",
    "#session_conf = tf.ConfigProto(device_count = {'GPU': 0})\n",
    "from keras import backend as K\n",
    "tf.set_random_seed(random_seed)  # initialize random seed generator of tensorflow\n",
    "sess = tf.Session(graph=tf.get_default_graph(), config=session_conf)\n",
    "K.set_session(sess)\n",
    "\n",
    "from keras.layers import Dense, Dropout\n",
    "from keras.models import Sequential, load_model"
   ]
  },
  {
   "cell_type": "code",
   "execution_count": 251,
   "metadata": {
    "collapsed": true
   },
   "outputs": [],
   "source": [
    "train_df = pd.read_csv(path_train, header=0) # pass header=0 to be able to replace existing names\n",
    "test_df = pd.read_csv(path_validation, header=0)"
   ]
  },
  {
   "cell_type": "code",
   "execution_count": 252,
   "metadata": {
    "collapsed": true
   },
   "outputs": [],
   "source": [
    "train_AP_features = scale(np.asarray(train_df.iloc[:,0:520]).astype(float), axis=1)"
   ]
  },
  {
   "cell_type": "code",
   "execution_count": 253,
   "metadata": {},
   "outputs": [
    {
     "data": {
      "text/plain": [
       "array([[-0.17125017, -0.17125017, -0.17125017, ..., -0.17125017,\n",
       "        -0.17125017, -0.17125017],\n",
       "       [-0.16059846, -0.16059846, -0.16059846, ..., -0.16059846,\n",
       "        -0.16059846, -0.16059846],\n",
       "       [-0.15523113, -0.15523113, -0.15523113, ..., -0.15523113,\n",
       "        -0.15523113, -0.15523113],\n",
       "       ...,\n",
       "       [-0.1077911 , -0.1077911 , -0.1077911 , ..., -0.1077911 ,\n",
       "        -0.1077911 , -0.1077911 ],\n",
       "       [-0.17141826, -0.17141826, -0.17141826, ..., -0.17141826,\n",
       "        -0.17141826, -0.17141826],\n",
       "       [-0.17331788, -0.17331788, -0.17331788, ..., -0.17331788,\n",
       "        -0.17331788, -0.17331788]])"
      ]
     },
     "execution_count": 253,
     "metadata": {},
     "output_type": "execute_result"
    }
   ],
   "source": [
    "train_AP_features"
   ]
  },
  {
   "cell_type": "code",
   "execution_count": 254,
   "metadata": {
    "collapsed": true
   },
   "outputs": [],
   "source": [
    " # add a new column\n",
    "train_df['REFPOINT'] = train_df.apply(lambda row: str(int(row['SPACEID'])) + str(int(row['RELATIVEPOSITION'])), axis=1)"
   ]
  },
  {
   "cell_type": "code",
   "execution_count": 255,
   "metadata": {
    "collapsed": true
   },
   "outputs": [],
   "source": [
    "blds = np.unique(train_df[['BUILDINGID']])\n",
    "flrs = np.unique(train_df[['FLOOR']])"
   ]
  },
  {
   "cell_type": "code",
   "execution_count": 256,
   "metadata": {
    "collapsed": true
   },
   "outputs": [],
   "source": [
    "x_avg = {}\n",
    "y_avg = {}\n",
    "for bld in blds:\n",
    "    for flr in flrs:\n",
    "        # map reference points to sequential IDs per building-floor before building labels\n",
    "        cond = (train_df['BUILDINGID']==bld) & (train_df['FLOOR']==flr)\n",
    "        \n",
    "        _, idx = np.unique(train_df.loc[cond, 'REFPOINT'], return_inverse=True) # refer to numpy.unique manual\n",
    "        train_df.loc[cond, 'REFPOINT'] = idx\n",
    "            \n",
    "        # calculate the average coordinates of each building/floor\n",
    "        x_avg[str(bld) + '-' + str(flr)] = np.mean(train_df.loc[cond, 'LONGITUDE'])\n",
    "        y_avg[str(bld) + '-' + str(flr)] = np.mean(train_df.loc[cond, 'LATITUDE'])"
   ]
  },
  {
   "cell_type": "code",
   "execution_count": 257,
   "metadata": {},
   "outputs": [
    {
     "data": {
      "text/plain": [
       "19937"
      ]
     },
     "execution_count": 257,
     "metadata": {},
     "output_type": "execute_result"
    }
   ],
   "source": [
    "len_train = len(train_df) \n",
    "len_train"
   ]
  },
  {
   "cell_type": "code",
   "execution_count": 258,
   "metadata": {
    "collapsed": true
   },
   "outputs": [],
   "source": [
    "# for consistency in one-hot encoding\n",
    "blds_all = np.asarray(pd.get_dummies(pd.concat([train_df['BUILDINGID'], test_df['BUILDINGID']])))\n",
    "flrs_all = np.asarray(pd.get_dummies(pd.concat([train_df['FLOOR'], test_df['FLOOR']]))) # ditto\n",
    "\n",
    "blds = blds_all[:len_train]\n",
    "flrs = flrs_all[:len_train]"
   ]
  },
  {
   "cell_type": "code",
   "execution_count": 259,
   "metadata": {
    "collapsed": true
   },
   "outputs": [],
   "source": [
    "rfps = np.asarray(pd.get_dummies(train_df['REFPOINT']))\n",
    "train_labels = np.concatenate((blds, flrs, rfps), axis=1)\n",
    "OUTPUT_DIM = train_labels.shape[1]"
   ]
  },
  {
   "cell_type": "code",
   "execution_count": 260,
   "metadata": {
    "collapsed": true
   },
   "outputs": [],
   "source": [
    "# split the training set into training and validation sets; \n",
    "\n",
    "# we will use the validation set at a testing set.\n",
    "train_val_split = np.full((len(train_AP_features)), True)\n",
    "train_val_split[int(len(train_AP_features)*training_ratio):len(train_AP_features)] = False"
   ]
  },
  {
   "cell_type": "code",
   "execution_count": 261,
   "metadata": {},
   "outputs": [
    {
     "data": {
      "text/plain": [
       "17943"
      ]
     },
     "execution_count": 261,
     "metadata": {},
     "output_type": "execute_result"
    }
   ],
   "source": [
    "np.sum(train_val_split)"
   ]
  },
  {
   "cell_type": "code",
   "execution_count": 262,
   "metadata": {
    "collapsed": true
   },
   "outputs": [],
   "source": [
    "\n",
    "x_train = train_AP_features[train_val_split]\n",
    "y_train = train_labels[train_val_split]\n",
    "x_val = train_AP_features[~train_val_split]\n",
    "y_val = train_labels[~train_val_split]"
   ]
  },
  {
   "cell_type": "code",
   "execution_count": 263,
   "metadata": {
    "scrolled": true
   },
   "outputs": [
    {
     "name": "stdout",
     "output_type": "stream",
     "text": [
      "Epoch 1/20\n",
      "17943/17943 [==============================] - 15s 843us/step - loss: 0.5689\n",
      "Epoch 2/20\n",
      "17943/17943 [==============================] - 15s 812us/step - loss: 0.5179\n",
      "Epoch 3/20\n",
      "17943/17943 [==============================] - 16s 865us/step - loss: 0.5108\n",
      "Epoch 4/20\n",
      "17943/17943 [==============================] - 17s 932us/step - loss: 0.5067\n",
      "Epoch 5/20\n",
      "17943/17943 [==============================] - 16s 898us/step - loss: 0.5036\n",
      "Epoch 6/20\n",
      "17943/17943 [==============================] - 16s 871us/step - loss: 0.4992\n",
      "Epoch 7/20\n",
      "17943/17943 [==============================] - 16s 886us/step - loss: 0.4975\n",
      "Epoch 8/20\n",
      "17943/17943 [==============================] - 16s 892us/step - loss: 0.4937\n",
      "Epoch 9/20\n",
      "17943/17943 [==============================] - 17s 947us/step - loss: 0.4913\n",
      "Epoch 10/20\n",
      "17943/17943 [==============================] - 17s 930us/step - loss: 0.4901\n",
      "Epoch 11/20\n",
      "17943/17943 [==============================] - 15s 861us/step - loss: 0.4891\n",
      "Epoch 12/20\n",
      "17943/17943 [==============================] - 14s 796us/step - loss: 0.4872\n",
      "Epoch 13/20\n",
      "17943/17943 [==============================] - 14s 795us/step - loss: 0.4860\n",
      "Epoch 14/20\n",
      "17943/17943 [==============================] - 15s 821us/step - loss: 0.4831\n",
      "Epoch 15/20\n",
      "17943/17943 [==============================] - 16s 868us/step - loss: 0.4805\n",
      "Epoch 16/20\n",
      "17943/17943 [==============================] - 15s 839us/step - loss: 0.4798\n",
      "Epoch 17/20\n",
      "17943/17943 [==============================] - 15s 857us/step - loss: 0.4795\n",
      "Epoch 18/20\n",
      "17943/17943 [==============================] - 16s 870us/step - loss: 0.4786\n",
      "Epoch 19/20\n",
      "17943/17943 [==============================] - 15s 850us/step - loss: 0.4756\n",
      "Epoch 20/20\n",
      "17943/17943 [==============================] - 15s 857us/step - loss: 0.4754\n"
     ]
    },
    {
     "data": {
      "text/plain": [
       "<keras.callbacks.History at 0x1cc049824e0>"
      ]
     },
     "execution_count": 263,
     "metadata": {},
     "output_type": "execute_result"
    }
   ],
   "source": [
    "# create a model based on stacked autoencoder (SAE)\n",
    "model = Sequential()\n",
    "model.add(Dense(sae_hidden_layers[0], input_dim=INPUT_DIM, activation=SAE_ACTIVATION, use_bias=SAE_BIAS))\n",
    "for units in sae_hidden_layers[1:]:\n",
    "    model.add(Dense(units, activation=SAE_ACTIVATION, use_bias=SAE_BIAS))  \n",
    "model.add(Dense(INPUT_DIM, activation=SAE_ACTIVATION, use_bias=SAE_BIAS))\n",
    "model.compile(optimizer=SAE_OPTIMIZER, loss=SAE_LOSS)\n",
    "\n",
    "# train the model\n",
    "#model.fit(x_train, x_train, batch_size=batch_size, epochs=epochs, verbose=VERBOSE,shuffle=False)\n",
    "model.fit(x_train, x_train, batch_size=batch_size, epochs=epochs, verbose=VERBOSE)\n",
    "\n",
    "\n"
   ]
  },
  {
   "cell_type": "code",
   "execution_count": 264,
   "metadata": {
    "collapsed": true
   },
   "outputs": [],
   "source": [
    "# remove the decoder part\n",
    "num_to_remove = (len(sae_hidden_layers) + 1) // 2\n",
    "for i in range(num_to_remove):\n",
    "    model.pop()\n",
    "    \n",
    "### build and train a complete model with the trained SAE encoder and a new classifier\n",
    "model.add(Dropout(dropout))\n",
    "for units in classifier_hidden_layers:\n",
    "    model.add(Dense(units, activation=CLASSIFIER_ACTIVATION, use_bias=CLASSIFIER_BIAS))\n",
    "    model.add(Dropout(dropout))\n",
    "model.add(Dense(OUTPUT_DIM, activation='sigmoid', use_bias=CLASSIFIER_BIAS)) # 'sigmoid' for multi-label classification\n",
    "model.compile(optimizer=CLASSIFIER_OPTIMIZER, loss=CLASSIFIER_LOSS, metrics=['accuracy'])\n"
   ]
  },
  {
   "cell_type": "code",
   "execution_count": 265,
   "metadata": {},
   "outputs": [
    {
     "name": "stdout",
     "output_type": "stream",
     "text": [
      "Train on 17943 samples, validate on 1994 samples\n",
      "Epoch 1/20\n",
      "17943/17943 [==============================] - 8s 439us/step - loss: 0.0629 - acc: 0.9862 - val_loss: 0.0592 - val_acc: 0.9894\n",
      "Epoch 2/20\n",
      "17943/17943 [==============================] - 7s 389us/step - loss: 0.0446 - acc: 0.9905 - val_loss: 0.0531 - val_acc: 0.9895\n",
      "Epoch 3/20\n",
      "17943/17943 [==============================] - 7s 396us/step - loss: 0.0404 - acc: 0.9908 - val_loss: 0.0551 - val_acc: 0.9894\n",
      "Epoch 4/20\n",
      "17943/17943 [==============================] - 7s 400us/step - loss: 0.0381 - acc: 0.9908 - val_loss: 0.0527 - val_acc: 0.9895\n",
      "Epoch 5/20\n",
      "17943/17943 [==============================] - 7s 390us/step - loss: 0.0366 - acc: 0.9908 - val_loss: 0.0508 - val_acc: 0.9891\n",
      "Epoch 6/20\n",
      "17943/17943 [==============================] - 7s 383us/step - loss: 0.0356 - acc: 0.9908 - val_loss: 0.0569 - val_acc: 0.9887\n",
      "Epoch 7/20\n",
      "17943/17943 [==============================] - 7s 388us/step - loss: 0.0350 - acc: 0.9908 - val_loss: 0.0547 - val_acc: 0.9891\n",
      "Epoch 8/20\n",
      "17943/17943 [==============================] - 7s 388us/step - loss: 0.0345 - acc: 0.9908 - val_loss: 0.0474 - val_acc: 0.9896\n",
      "Epoch 9/20\n",
      "17943/17943 [==============================] - 7s 399us/step - loss: 0.0341 - acc: 0.9908 - val_loss: 0.0572 - val_acc: 0.9891\n",
      "Epoch 10/20\n",
      "17943/17943 [==============================] - 7s 390us/step - loss: 0.0333 - acc: 0.9908 - val_loss: 0.0512 - val_acc: 0.9894\n",
      "Epoch 11/20\n",
      "17943/17943 [==============================] - 7s 391us/step - loss: 0.0333 - acc: 0.9908 - val_loss: 0.0527 - val_acc: 0.9894\n",
      "Epoch 12/20\n",
      "17943/17943 [==============================] - 7s 405us/step - loss: 0.0329 - acc: 0.9908 - val_loss: 0.0541 - val_acc: 0.9892\n",
      "Epoch 13/20\n",
      "17943/17943 [==============================] - 7s 384us/step - loss: 0.0328 - acc: 0.9908 - val_loss: 0.0547 - val_acc: 0.9893\n",
      "Epoch 14/20\n",
      "17943/17943 [==============================] - 7s 395us/step - loss: 0.0322 - acc: 0.9909 - val_loss: 0.0570 - val_acc: 0.9891\n",
      "Epoch 15/20\n",
      "17943/17943 [==============================] - 7s 392us/step - loss: 0.0322 - acc: 0.9909 - val_loss: 0.0547 - val_acc: 0.9893\n",
      "Epoch 16/20\n",
      "17943/17943 [==============================] - 7s 389us/step - loss: 0.0320 - acc: 0.9908 - val_loss: 0.0545 - val_acc: 0.9892\n",
      "Epoch 17/20\n",
      "17943/17943 [==============================] - 7s 389us/step - loss: 0.0320 - acc: 0.9908 - val_loss: 0.0568 - val_acc: 0.9889\n",
      "Epoch 18/20\n",
      "17943/17943 [==============================] - 7s 393us/step - loss: 0.0315 - acc: 0.9908 - val_loss: 0.0553 - val_acc: 0.9891\n",
      "Epoch 19/20\n",
      "17943/17943 [==============================] - 7s 381us/step - loss: 0.0319 - acc: 0.9908 - val_loss: 0.0610 - val_acc: 0.9890\n",
      "Epoch 20/20\n",
      "17943/17943 [==============================] - 7s 393us/step - loss: 0.0320 - acc: 0.9908 - val_loss: 0.0599 - val_acc: 0.9888\n"
     ]
    },
    {
     "data": {
      "text/plain": [
       "<keras.callbacks.History at 0x1cc049a5a20>"
      ]
     },
     "execution_count": 265,
     "metadata": {},
     "output_type": "execute_result"
    }
   ],
   "source": [
    "model.fit(x_train, y_train, validation_data=(x_val, y_val), batch_size=batch_size, epochs=epochs, verbose=VERBOSE)"
   ]
  },
  {
   "cell_type": "code",
   "execution_count": 266,
   "metadata": {
    "collapsed": true
   },
   "outputs": [],
   "source": [
    "# turn the given validation set into a testing set\n",
    "test_AP_features = scale(np.asarray(test_df.iloc[:,0:520]).astype(float), axis=1) # convert integer to float and scale jointly (axis=1)\n",
    "x_test_utm = np.asarray(test_df['LONGITUDE'])\n",
    "y_test_utm = np.asarray(test_df['LATITUDE'])\n",
    "blds = blds_all[len_train:]\n",
    "flrs = flrs_all[len_train:]\n"
   ]
  },
  {
   "cell_type": "code",
   "execution_count": 267,
   "metadata": {},
   "outputs": [
    {
     "data": {
      "text/plain": [
       "array([[2.47690920e-03, 9.83915865e-01, 1.01237275e-01],\n",
       "       [1.94012900e-04, 2.36098749e-05, 9.99246359e-01],\n",
       "       [2.48761760e-04, 5.37202432e-05, 9.98826921e-01],\n",
       "       ...,\n",
       "       [1.00000000e+00, 1.95209111e-08, 2.60661197e-12],\n",
       "       [1.00000000e+00, 9.42059408e-09, 6.30828115e-12],\n",
       "       [1.00000000e+00, 6.13505975e-08, 4.62390959e-11]], dtype=float32)"
      ]
     },
     "execution_count": 267,
     "metadata": {},
     "output_type": "execute_result"
    }
   ],
   "source": [
    "### evaluate the model\n",
    "# calculate the accuracy of building and floor estimation\n",
    "preds = model.predict(test_AP_features, batch_size=batch_size)\n",
    "n_preds = preds.shape[0]"
   ]
  },
  {
   "cell_type": "code",
   "execution_count": 268,
   "metadata": {
    "collapsed": true
   },
   "outputs": [],
   "source": [
    "# blds_results = (np.equal(np.argmax(test_labels[:, :3], axis=1), np.argmax(preds[:, :3], axis=1))).astype(int)\n",
    "blds_results = (np.equal(np.argmax(blds, axis=1), np.argmax(preds[:, :3], axis=1))).astype(int)\n",
    "acc_bld = blds_results.mean()"
   ]
  },
  {
   "cell_type": "code",
   "execution_count": 269,
   "metadata": {},
   "outputs": [
    {
     "data": {
      "text/plain": [
       "array([1, 2, 2, ..., 0, 0, 0], dtype=int64)"
      ]
     },
     "execution_count": 269,
     "metadata": {},
     "output_type": "execute_result"
    }
   ],
   "source": [
    "np.argmax(blds, axis=1)"
   ]
  },
  {
   "cell_type": "code",
   "execution_count": 270,
   "metadata": {
    "collapsed": true
   },
   "outputs": [],
   "source": [
    "flrs_results = (np.equal(np.argmax(flrs, axis=1), np.argmax(preds[:, 3:8], axis=1))).astype(int)\n",
    "acc_flr = flrs_results.mean()\n",
    "acc_bf = (blds_results*flrs_results).mean()"
   ]
  },
  {
   "cell_type": "code",
   "execution_count": 271,
   "metadata": {},
   "outputs": [
    {
     "data": {
      "text/plain": [
       "0.9162916291629163"
      ]
     },
     "execution_count": 271,
     "metadata": {},
     "output_type": "execute_result"
    }
   ],
   "source": [
    "acc_bf"
   ]
  },
  {
   "cell_type": "code",
   "execution_count": 272,
   "metadata": {
    "collapsed": true
   },
   "outputs": [],
   "source": [
    "# calculate positioning error when building and floor are correctly estimated\n",
    "mask = np.logical_and(blds_results, flrs_results) # mask index array for correct location of building and floor"
   ]
  },
  {
   "cell_type": "code",
   "execution_count": 273,
   "metadata": {
    "collapsed": true
   },
   "outputs": [],
   "source": [
    "x_test_utm = x_test_utm[mask]\n",
    "y_test_utm = y_test_utm[mask]\n",
    "blds = blds[mask]\n",
    "flrs = flrs[mask]\n",
    "rfps = (preds[mask])[:, 8:118]"
   ]
  },
  {
   "cell_type": "code",
   "execution_count": 274,
   "metadata": {},
   "outputs": [
    {
     "data": {
      "text/plain": [
       "array([[2.47690920e-03, 9.83915865e-01, 1.01237275e-01, ...,\n",
       "        1.50193300e-04, 4.57910268e-04, 2.45328061e-04],\n",
       "       [1.94012900e-04, 2.36098749e-05, 9.99246359e-01, ...,\n",
       "        8.83312087e-12, 2.28757395e-11, 1.14179855e-11],\n",
       "       [2.48761760e-04, 5.37202432e-05, 9.98826921e-01, ...,\n",
       "        2.27822535e-11, 8.00246952e-11, 5.65944652e-11],\n",
       "       ...,\n",
       "       [1.00000000e+00, 1.95209111e-08, 2.60661197e-12, ...,\n",
       "        1.13467968e-30, 3.39208381e-35, 2.00443616e-36],\n",
       "       [1.00000000e+00, 9.42059408e-09, 6.30828115e-12, ...,\n",
       "        2.42053475e-28, 3.38342870e-33, 1.49825709e-34],\n",
       "       [1.00000000e+00, 6.13505975e-08, 4.62390959e-11, ...,\n",
       "        6.46520138e-26, 2.28656164e-30, 9.46177502e-32]], dtype=float32)"
      ]
     },
     "execution_count": 274,
     "metadata": {},
     "output_type": "execute_result"
    }
   ],
   "source": [
    "preds"
   ]
  },
  {
   "cell_type": "code",
   "execution_count": 275,
   "metadata": {},
   "outputs": [
    {
     "data": {
      "text/plain": [
       "1018"
      ]
     },
     "execution_count": 275,
     "metadata": {},
     "output_type": "execute_result"
    }
   ],
   "source": [
    "# number of correct building and floor location\n",
    "n_success = len(blds)   \n",
    "n_success"
   ]
  },
  {
   "cell_type": "code",
   "execution_count": 276,
   "metadata": {
    "collapsed": true
   },
   "outputs": [],
   "source": [
    "n_loc_failure = 0\n",
    "sum_pos_err = 0.0\n",
    "sum_pos_err_weighted = 0.0\n",
    "idxs = np.argpartition(rfps, -N)[:, -N:]  # (unsorted) indexes of up to N nearest neighbors\n",
    "threshold = scaling*np.amax(rfps, axis=1)"
   ]
  },
  {
   "cell_type": "code",
   "execution_count": 281,
   "metadata": {
    "collapsed": true
   },
   "outputs": [],
   "source": [
    "for i in range(n_success):\n",
    "    xs = []\n",
    "    ys = []\n",
    "    ws = []\n",
    "    for j in idxs[i]:\n",
    "        rfp = np.zeros(110)\n",
    "        rfp[j] = 1\n",
    "        rows = np.where((train_labels == np.concatenate((blds[i], flrs[i], rfp))).all(axis=1)) # tuple of row indexes\n",
    "        if rows[0].size > 0:\n",
    "            if rfps[i][j] >= threshold[i]:\n",
    "                xs.append(train_df.loc[train_df.index[rows[0][0]], 'LONGITUDE'])\n",
    "                ys.append(train_df.loc[train_df.index[rows[0][0]], 'LATITUDE'])\n",
    "                ws.append(rfps[i][j])\n",
    "    if len(xs) > 0:\n",
    "        sum_pos_err += math.sqrt((np.mean(xs)-x_test_utm[i])**2 + (np.mean(ys)-y_test_utm[i])**2)\n",
    "        sum_pos_err_weighted += math.sqrt((np.average(xs, weights=ws)-x_test_utm[i])**2 + (np.average(ys, weights=ws)-y_test_utm[i])**2)\n",
    "    else:\n",
    "        n_loc_failure += 1\n",
    "        key = str(np.argmax(blds[i])) + '-' + str(np.argmax(flrs[i]))\n",
    "        pos_err = math.sqrt((x_avg[key]-x_test_utm[i])**2 + (y_avg[key]-y_test_utm[i])**2)\n",
    "        sum_pos_err += pos_err\n",
    "        sum_pos_err_weighted += pos_err"
   ]
  },
  {
   "cell_type": "code",
   "execution_count": 282,
   "metadata": {
    "collapsed": true
   },
   "outputs": [],
   "source": [
    " # mean_pos_err = sum_pos_err / (n_success - n_loc_failure)\n",
    "mean_pos_err = sum_pos_err / n_success\n",
    "# mean_pos_err_weighted = sum_pos_err_weighted / (n_success - n_loc_failure)\n",
    "mean_pos_err_weighted = sum_pos_err_weighted / n_success\n",
    "loc_failure = n_loc_failure / n_success # rate of location estimation failure given that building and floor are correctly located"
   ]
  },
  {
   "cell_type": "code",
   "execution_count": 284,
   "metadata": {},
   "outputs": [
    {
     "data": {
      "text/plain": [
       "9.37376457274175"
      ]
     },
     "execution_count": 284,
     "metadata": {},
     "output_type": "execute_result"
    }
   ],
   "source": [
    "mean_pos_err_weighted"
   ]
  },
  {
   "cell_type": "code",
   "execution_count": 285,
   "metadata": {
    "collapsed": true
   },
   "outputs": [],
   "source": [
    "#9.277102567499114\n",
    "#9.826676547695087\n",
    "#9.836135151319597\n",
    "#9.875814741893349"
   ]
  },
  {
   "cell_type": "code",
   "execution_count": 286,
   "metadata": {
    "collapsed": true
   },
   "outputs": [],
   "source": [
    "#9.516800349169966\n",
    "#9.516800349169966\n",
    "#9.516800349169966\n",
    "#9.516800349169966\n",
    "#9.516800349169966"
   ]
  },
  {
   "cell_type": "code",
   "execution_count": 287,
   "metadata": {
    "collapsed": true
   },
   "outputs": [],
   "source": [
    "#9.402408856112912\n",
    "#9.402408856112912\n",
    "#9.402408856112912\n",
    "#8.714254619707846\n",
    "#8.714254619707846"
   ]
  }
 ],
 "metadata": {
  "kernelspec": {
   "display_name": "Python 3",
   "language": "python",
   "name": "python3"
  },
  "language_info": {
   "codemirror_mode": {
    "name": "ipython",
    "version": 3
   },
   "file_extension": ".py",
   "mimetype": "text/x-python",
   "name": "python",
   "nbconvert_exporter": "python",
   "pygments_lexer": "ipython3",
   "version": "3.6.3"
  }
 },
 "nbformat": 4,
 "nbformat_minor": 2
}
